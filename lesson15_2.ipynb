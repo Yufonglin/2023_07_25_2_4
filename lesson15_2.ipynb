{
 "cells": [
  {
   "cell_type": "code",
   "execution_count": 10,
   "metadata": {},
   "outputs": [],
   "source": [
    "#建立LIST\n",
    "a = [1,3,5,7,9]\n",
    "a*2\n",
    "b=[2,4,6,8,10]\n",
    "a+b\n",
    "result = []\n",
    "for i in range(5):\n",
    "    result.append(a[i]+b[i])\n",
    "    \n",
    "result\n",
    "\n",
    "    "
   ]
  },
  {
   "cell_type": "code",
   "execution_count": 19,
   "metadata": {},
   "outputs": [
    {
     "data": {
      "text/plain": [
       "array([ 3,  7, 11, 15, 19])"
      ]
     },
     "execution_count": 19,
     "metadata": {},
     "output_type": "execute_result"
    }
   ],
   "source": [
    "import numpy as np\n",
    "#透過list建立ndArry->可以做陣列運算\n",
    "a=[1,3,5,7,9]\n",
    "b = [2,4,6,8,10]\n",
    "a_array = np.array(a)\n",
    "a_array*2\n",
    "\n",
    "b_array =np.array(b)\n",
    "a_array + b_array\n"
   ]
  },
  {
   "cell_type": "code",
   "execution_count": 31,
   "metadata": {},
   "outputs": [
    {
     "data": {
      "text/plain": [
       "[85, 60, 64, 86, 95]"
      ]
     },
     "execution_count": 31,
     "metadata": {},
     "output_type": "execute_result"
    }
   ],
   "source": [
    "#使用python建立5個亂數的元素的list\n",
    "import random\n",
    "[random.randint(50,100) for _ in range(5)]\n",
    "\n",
    "\n"
   ]
  },
  {
   "cell_type": "code",
   "execution_count": 26,
   "metadata": {},
   "outputs": [
    {
     "data": {
      "text/plain": [
       "array([76, 85, 79, 84, 53])"
      ]
     },
     "execution_count": 26,
     "metadata": {},
     "output_type": "execute_result"
    }
   ],
   "source": [
    "np.random.randint(50,high=100,size=5)\n"
   ]
  },
  {
   "cell_type": "code",
   "execution_count": 27,
   "metadata": {},
   "outputs": [
    {
     "data": {
      "text/plain": [
       "array([[94, 51, 96, 50, 87],\n",
       "       [95, 80, 51, 82, 99],\n",
       "       [94, 87, 52, 97, 57],\n",
       "       [69, 68, 62, 86, 53],\n",
       "       [88, 73, 79, 96, 52],\n",
       "       [87, 80, 88, 96, 91],\n",
       "       [59, 57, 58, 55, 68],\n",
       "       [70, 55, 98, 89, 76],\n",
       "       [93, 94, 60, 64, 86],\n",
       "       [54, 55, 64, 72, 81],\n",
       "       [61, 80, 92, 85, 93],\n",
       "       [83, 85, 51, 56, 62],\n",
       "       [55, 84, 95, 76, 84],\n",
       "       [87, 88, 71, 70, 72],\n",
       "       [89, 70, 70, 75, 98],\n",
       "       [71, 78, 91, 91, 82],\n",
       "       [75, 69, 65, 52, 98],\n",
       "       [96, 57, 79, 60, 76],\n",
       "       [58, 59, 80, 92, 92],\n",
       "       [99, 71, 83, 50, 99],\n",
       "       [72, 96, 64, 86, 93],\n",
       "       [74, 61, 71, 90, 72],\n",
       "       [66, 65, 88, 95, 80],\n",
       "       [82, 63, 58, 51, 57],\n",
       "       [95, 74, 68, 99, 70],\n",
       "       [57, 77, 56, 72, 59],\n",
       "       [84, 69, 83, 66, 64],\n",
       "       [87, 85, 98, 66, 99],\n",
       "       [92, 94, 63, 87, 88],\n",
       "       [98, 82, 93, 60, 86],\n",
       "       [82, 87, 80, 94, 59],\n",
       "       [91, 58, 68, 99, 77],\n",
       "       [96, 99, 85, 92, 50],\n",
       "       [54, 83, 94, 77, 70],\n",
       "       [84, 78, 98, 82, 82],\n",
       "       [69, 82, 87, 58, 78],\n",
       "       [99, 52, 73, 88, 64],\n",
       "       [87, 74, 92, 64, 98],\n",
       "       [77, 58, 88, 61, 96],\n",
       "       [94, 80, 59, 54, 74],\n",
       "       [74, 57, 61, 50, 66],\n",
       "       [75, 67, 93, 90, 74],\n",
       "       [66, 97, 85, 83, 64],\n",
       "       [55, 90, 58, 66, 88],\n",
       "       [64, 84, 51, 61, 57],\n",
       "       [53, 94, 55, 72, 70],\n",
       "       [88, 57, 60, 77, 50],\n",
       "       [61, 74, 89, 98, 89],\n",
       "       [77, 89, 87, 55, 62],\n",
       "       [96, 83, 68, 85, 72]])"
      ]
     },
     "execution_count": 27,
     "metadata": {},
     "output_type": "execute_result"
    }
   ],
   "source": [
    "import numpy as np\n",
    "np.random.randint(50,high=100,size=(50,5))"
   ]
  }
 ],
 "metadata": {
  "kernelspec": {
   "display_name": "Python 3",
   "language": "python",
   "name": "python3"
  },
  "language_info": {
   "codemirror_mode": {
    "name": "ipython",
    "version": 3
   },
   "file_extension": ".py",
   "mimetype": "text/x-python",
   "name": "python",
   "nbconvert_exporter": "python",
   "pygments_lexer": "ipython3",
   "version": "3.10.12"
  },
  "orig_nbformat": 4
 },
 "nbformat": 4,
 "nbformat_minor": 2
}
