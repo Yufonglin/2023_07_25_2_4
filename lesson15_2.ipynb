{
 "cells": [
  {
   "cell_type": "code",
   "execution_count": 10,
   "metadata": {},
   "outputs": [],
   "source": [
    "#建立LIST\n",
    "a = [1,3,5,7,9]\n",
    "a*2\n",
    "b=[2,4,6,8,10]\n",
    "a+b\n",
    "result = []\n",
    "for i in range(5):\n",
    "    result.append(a[i]+b[i])\n",
    "    \n",
    "result\n",
    "\n",
    "    "
   ]
  },
  {
   "cell_type": "code",
   "execution_count": 19,
   "metadata": {},
   "outputs": [
    {
     "data": {
      "text/plain": [
       "array([ 3,  7, 11, 15, 19])"
      ]
     },
     "execution_count": 19,
     "metadata": {},
     "output_type": "execute_result"
    }
   ],
   "source": [
    "import numpy as np\n",
    "#透過list建立ndArry->可以做陣列運算\n",
    "a=[1,3,5,7,9]\n",
    "b = [2,4,6,8,10]\n",
    "a_array = np.array(a)\n",
    "a_array*2\n",
    "\n",
    "b_array =np.array(b)\n",
    "a_array + b_array\n"
   ]
  }
 ],
 "metadata": {
  "kernelspec": {
   "display_name": "Python 3",
   "language": "python",
   "name": "python3"
  },
  "language_info": {
   "codemirror_mode": {
    "name": "ipython",
    "version": 3
   },
   "file_extension": ".py",
   "mimetype": "text/x-python",
   "name": "python",
   "nbconvert_exporter": "python",
   "pygments_lexer": "ipython3",
   "version": "3.10.12"
  },
  "orig_nbformat": 4
 },
 "nbformat": 4,
 "nbformat_minor": 2
}
