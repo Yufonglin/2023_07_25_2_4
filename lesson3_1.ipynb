{
 "cells": [
  {
   "cell_type": "code",
   "execution_count": 15,
   "metadata": {},
   "outputs": [
    {
     "name": "stdout",
     "output_type": "stream",
     "text": [
      "梯形的面積 450.0 平方公分\n",
      "梯形的面積450.0平方公\n"
     ]
    }
   ],
   "source": [
    "top = float(input(\"請輸入梯形的上底(公分)：\"))\n",
    "bottoml = float(input(\"請輸入梯形的下底(公分)：\"))\n",
    "hight = float(input(\"請輸入梯形的高(公分)：\"))\n",
    "area =(top+bottoml)*hight/2\n",
    "print(\"梯形的面積\",round(area,ndigits=2),\"平方公分\") #round = 四捨五入的函式 ，ndigits=用來確認到小數點第幾位。\n",
    "print(f\"梯形的面積{area:.2f}平方公\") # 字串差補(在雙引號前加上f並在想放進去數據的位置加上{}，就可以用字串差補。{:.2f}->.2f用在強制執行到小數點後2位。\n"
   ]
  },
  {
   "cell_type": "code",
   "execution_count": 23,
   "metadata": {},
   "outputs": [
    {
     "name": "stdout",
     "output_type": "stream",
     "text": [
      "對邊2.5,斜邊5角度為30.00\n"
     ]
    }
   ],
   "source": [
    "#高中數學\n",
    "import math\n",
    "sidal = eval(input(\"請輸入對邊：\"))   \n",
    "sida2 = eval(input(\"請輸入斜邊：\"))   \n",
    "#三角函示：sin勁度 = 對邊/斜邊\n",
    "#三角函示：勁度 = asib(對邊/斜邊)\n",
    "radian = math.asin(sidal / sida2)  #勁度的公式\n",
    "degree = math.degrees(radian)\n",
    "print(f\"對邊{sidal},斜邊{sida2}角度為{degree:.2f}\")"
   ]
  }
 ],
 "metadata": {
  "kernelspec": {
   "display_name": "Python 3",
   "language": "python",
   "name": "python3"
  },
  "language_info": {
   "codemirror_mode": {
    "name": "ipython",
    "version": 3
   },
   "file_extension": ".py",
   "mimetype": "text/x-python",
   "name": "python",
   "nbconvert_exporter": "python",
   "pygments_lexer": "ipython3",
   "version": "3.10.12"
  },
  "orig_nbformat": 4
 },
 "nbformat": 4,
 "nbformat_minor": 2
}
