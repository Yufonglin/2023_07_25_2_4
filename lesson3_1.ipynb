{
 "cells": [
  {
   "cell_type": "code",
   "execution_count": 15,
   "metadata": {},
   "outputs": [
    {
     "name": "stdout",
     "output_type": "stream",
     "text": [
      "梯形的面積 450.0 平方公分\n",
      "梯形的面積450.0平方公\n"
     ]
    }
   ],
   "source": [
    "top = float(input(\"請輸入梯形的上底(公分)：\"))\n",
    "bottoml = float(input(\"請輸入梯形的下底(公分)：\"))\n",
    "hight = float(input(\"請輸入梯形的高(公分)：\"))\n",
    "area =(top+bottoml)*hight/2\n",
    "print(\"梯形的面積\",round(area,ndigits=2),\"平方公分\") #round = 四捨五入的函式 ，ndigits=用來確認到小數點第幾位。\n",
    "print(f\"梯形的面積{area:.2f}平方公\") # 字串差補(在雙引號前加上f並在想放進去數據的位置加上{}，就可以用字串差補。{:.2f}->.2f用在強制執行到小數點後2位。\n"
   ]
  },
  {
   "cell_type": "code",
   "execution_count": 18,
   "metadata": {},
   "outputs": [
    {
     "ename": "SyntaxError",
     "evalue": "invalid syntax (<string>, line 0)",
     "output_type": "error",
     "traceback": [
      "Traceback \u001b[0;36m(most recent call last)\u001b[0m:\n",
      "\u001b[0m  File \u001b[1;32m~/.local/lib/python3.10/site-packages/IPython/core/interactiveshell.py:3508\u001b[0m in \u001b[1;35mrun_code\u001b[0m\n    exec(code_obj, self.user_global_ns, self.user_ns)\u001b[0m\n",
      "\u001b[0;36m  Cell \u001b[0;32mIn[18], line 3\u001b[0;36m\n\u001b[0;31m    sidal = eval(input(\"請輸入對邊：\"))\u001b[0;36m\n",
      "\u001b[0;36m  File \u001b[0;32m<string>\u001b[0;36m\u001b[0m\n\u001b[0;31m    \u001b[0m\n\u001b[0m    ^\u001b[0m\n\u001b[0;31mSyntaxError\u001b[0m\u001b[0;31m:\u001b[0m invalid syntax\n"
     ]
    }
   ],
   "source": [
    "#高中數學\n",
    "import math\n",
    "sidal = eval(input(\"請輸入對邊：\"))   \n",
    "sida2 = eval(input(\"請輸入斜邊：\"))   \n",
    "#三角函示：sin勁度 = 對邊/斜邊\n",
    "#三角函示：勁度 = asib(對邊/斜邊)\n",
    "radian = math.asin(sida1 / sida2)  #勁度的公式\n",
    "degrees = math.degrees(radian)\n",
    "print(f\"對邊{sida1},斜邊{sida2}角度為{degrees:.2f25}\")"
   ]
  }
 ],
 "metadata": {
  "kernelspec": {
   "display_name": "Python 3",
   "language": "python",
   "name": "python3"
  },
  "language_info": {
   "codemirror_mode": {
    "name": "ipython",
    "version": 3
   },
   "file_extension": ".py",
   "mimetype": "text/x-python",
   "name": "python",
   "nbconvert_exporter": "python",
   "pygments_lexer": "ipython3",
   "version": "3.10.12"
  },
  "orig_nbformat": 4
 },
 "nbformat": 4,
 "nbformat_minor": 2
}
