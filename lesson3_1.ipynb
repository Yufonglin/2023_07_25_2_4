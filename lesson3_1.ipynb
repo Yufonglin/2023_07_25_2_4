{
 "cells": [
  {
   "cell_type": "code",
   "execution_count": 8,
   "metadata": {},
   "outputs": [
    {
     "name": "stdout",
     "output_type": "stream",
     "text": [
      "梯形的面積 3100.0 平方公分\n"
     ]
    }
   ],
   "source": [
    "top = float(input(\"請輸入上底：\"))\n",
    "bottoml = float(input(\"請輸入下底：\"))\n",
    "hight = float(input(\"請輸入高：\"))\n",
    "area =(top+bottoml)*hight/2\n",
    "print(\"梯形的面積\",round(area,ndigits=2),\"平方公分\") #round = 四捨五入的函式 ，ndigits=用來確認到小數點第幾位。"
   ]
  }
 ],
 "metadata": {
  "kernelspec": {
   "display_name": "Python 3",
   "language": "python",
   "name": "python3"
  },
  "language_info": {
   "codemirror_mode": {
    "name": "ipython",
    "version": 3
   },
   "file_extension": ".py",
   "mimetype": "text/x-python",
   "name": "python",
   "nbconvert_exporter": "python",
   "pygments_lexer": "ipython3",
   "version": "3.10.12"
  },
  "orig_nbformat": 4
 },
 "nbformat": 4,
 "nbformat_minor": 2
}
