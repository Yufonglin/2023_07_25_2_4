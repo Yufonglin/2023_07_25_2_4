{
 "cells": [
  {
   "cell_type": "code",
   "execution_count": 5,
   "metadata": {},
   "outputs": [
    {
     "name": "stdout",
     "output_type": "stream",
     "text": [
      "a b c d e f g "
     ]
    }
   ],
   "source": [
    "#字串是串列資料\n",
    "#串列資料可以放在 in 後面\n",
    "for word in  \"abcdefg\":\n",
    "    print(word,end=\" \")"
   ]
  },
  {
   "cell_type": "code",
   "execution_count": 9,
   "metadata": {},
   "outputs": [
    {
     "name": "stdout",
     "output_type": "stream",
     "text": [
      "That is Alice's cat.\n",
      "That is Alice's cat.\n"
     ]
    }
   ],
   "source": [
    "words = 'That is Alice\\'s cat.'  #-->這樣會出錯，因為字串內也有一個單引號,可以補上\\。\n",
    "word2 = \"That is Alice's cat.\"  #-->或者在外面改用\"\"\n",
    "print(words)\n",
    "print(word2)"
   ]
  },
  {
   "cell_type": "code",
   "execution_count": 10,
   "metadata": {},
   "outputs": [
    {
     "name": "stdout",
     "output_type": "stream",
     "text": [
      "That is Caro \\'s cats\n"
     ]
    }
   ],
   "source": [
    "print(r'That is Caro \\'s cats')  #-> r=(raw)是原生字，會忽略\\'，並且完整印出所有字元"
   ]
  },
  {
   "cell_type": "code",
   "execution_count": 13,
   "metadata": {},
   "outputs": [
    {
     "data": {
      "text/plain": [
       "'jufopsdajfksdjfkoldsjfklsdjfklsdjklfjsdklfjioewuujioejfoiijiofjewoijfioewjfioew'"
      ]
     },
     "execution_count": 13,
     "metadata": {},
     "output_type": "execute_result"
    }
   ],
   "source": [
    "#單行文字\n",
    "sentens = \"jufopsdajfksdjfkoldsjfklsdjfklsd\\\n",
    "jklfjsdklf\\\n",
    "jioewuujioejfoiijiofjewoijfioewjfioew\"\n",
    "sentens"
   ]
  },
  {
   "cell_type": "code",
   "execution_count": 16,
   "metadata": {},
   "outputs": [
    {
     "name": "stdout",
     "output_type": "stream",
     "text": [
      "jopwqjdpodopc\n",
      "\n",
      "askdopaskdopksaopdksaopdkopsakdopasjdiosajdiosa\n"
     ]
    }
   ],
   "source": [
    "#多行文字\n",
    "sentens =\"jopwqjdpodopc\\n\\naskdopaskdopksaopdksaopdkopsakdopasjdiosajdiosa\"\n",
    "print(sentens)"
   ]
  },
  {
   "cell_type": "code",
   "execution_count": 22,
   "metadata": {},
   "outputs": [
    {
     "name": "stdout",
     "output_type": "stream",
     "text": [
      "\n",
      "ArithmeticError\n",
      "fdsfsdf\n",
      "\n",
      "sfdfsdf\n",
      "\n"
     ]
    },
    {
     "data": {
      "text/plain": [
       "'\\nArithmeticError\\nfdsfsdf\\n\\nsfdfsdf\\n'"
      ]
     },
     "execution_count": 22,
     "metadata": {},
     "output_type": "execute_result"
    }
   ],
   "source": [
    "#多行文字\n",
    "sentens='''\n",
    "ArithmeticError\n",
    "fdsfsdf\n",
    "\n",
    "sfdfsdf\n",
    "'''\n",
    "print(sentens)\n",
    "sentens"
   ]
  },
  {
   "cell_type": "code",
   "execution_count": 23,
   "metadata": {},
   "outputs": [],
   "source": [
    "#多行文字當作function說明\n",
    "def  add(first:int,second:int)->int:\n",
    "    '''加總的運算     \n",
    "    2個參數的相加'''\n",
    "    return first+second\n"
   ]
  },
  {
   "cell_type": "code",
   "execution_count": 28,
   "metadata": {},
   "outputs": [
    {
     "name": "stdout",
     "output_type": "stream",
     "text": [
      "Help on function add in module __main__:\n",
      "\n",
      "add(first: int, second: int) -> int\n",
      "    加總的運算\n",
      "    2個餐數的相加\n",
      "\n"
     ]
    }
   ],
   "source": [
    "help(add)"
   ]
  }
 ],
 "metadata": {
  "kernelspec": {
   "display_name": "Python 3",
   "language": "python",
   "name": "python3"
  },
  "language_info": {
   "codemirror_mode": {
    "name": "ipython",
    "version": 3
   },
   "file_extension": ".py",
   "mimetype": "text/x-python",
   "name": "python",
   "nbconvert_exporter": "python",
   "pygments_lexer": "ipython3",
   "version": "3.10.12"
  },
  "orig_nbformat": 4
 },
 "nbformat": 4,
 "nbformat_minor": 2
}
