{
 "cells": [
  {
   "cell_type": "code",
   "execution_count": 11,
   "metadata": {},
   "outputs": [
    {
     "data": {
      "text/plain": [
       "0     余丞苓\n",
       "1     潘俊賢\n",
       "2     賴昌韻\n",
       "3     梁柏宇\n",
       "4     謝哲維\n",
       "5     周怡啟\n",
       "6     馮芳如\n",
       "7     王雅慧\n",
       "8     馬彥文\n",
       "9     潘俊賢\n",
       "10    劉佳佩\n",
       "11    潘英迪\n",
       "12    張雅芬\n",
       "13    陳凱翔\n",
       "14    黃佩芬\n",
       "15    陳得映\n",
       "16    張凱妮\n",
       "17    高智超\n",
       "18    鞠冠宇\n",
       "19    黃淑芬\n",
       "20    張婕妤\n",
       "21    蘇凡菁\n",
       "22    賴苑禾\n",
       "23    馮芳如\n",
       "24    余宗儒\n",
       "25    林思賢\n",
       "26    謝南慧\n",
       "27    王人仰\n",
       "28    王展人\n",
       "29    林佳蓉\n",
       "30    孫火清\n",
       "31    李佳彥\n",
       "32    李彥伸\n",
       "33    張軒宸\n",
       "34    吳欣書\n",
       "35    蔡嘉音\n",
       "36    黃偉剛\n",
       "37    林俊翔\n",
       "38    錢欣潔\n",
       "39    楊火帆\n",
       "40    簡佳樺\n",
       "41    黃奎紹\n",
       "42    李佳彥\n",
       "43    張彥博\n",
       "44    林希啟\n",
       "45    林向鈺\n",
       "46    張天亨\n",
       "47    洪阿惠\n",
       "48    劉耿琦\n",
       "49    賴又琦\n",
       "Name: 姓名, dtype: object"
      ]
     },
     "execution_count": 11,
     "metadata": {},
     "output_type": "execute_result"
    }
   ],
   "source": [
    "import pandas as pd\n",
    "df = pd.read_csv('學生成績.csv')\n",
    "\n",
    "#DataFram\n",
    "name_s = df[\"姓名\"]  \n",
    "name_s\n"
   ]
  },
  {
   "cell_type": "code",
   "execution_count": 17,
   "metadata": {},
   "outputs": [
    {
     "data": {
      "text/plain": [
       "0     余丞苓\n",
       "1     潘俊賢\n",
       "2     賴昌韻\n",
       "3     梁柏宇\n",
       "4     謝哲維\n",
       "5     周怡啟\n",
       "6     馮芳如\n",
       "7     王雅慧\n",
       "8     馬彥文\n",
       "9     潘俊賢\n",
       "10    劉佳佩\n",
       "11    潘英迪\n",
       "12    張雅芬\n",
       "13    陳凱翔\n",
       "14    黃佩芬\n",
       "15    陳得映\n",
       "16    張凱妮\n",
       "17    高智超\n",
       "18    鞠冠宇\n",
       "19    黃淑芬\n",
       "20    張婕妤\n",
       "21    蘇凡菁\n",
       "22    賴苑禾\n",
       "23    馮芳如\n",
       "24    余宗儒\n",
       "25    林思賢\n",
       "26    謝南慧\n",
       "27    王人仰\n",
       "28    王展人\n",
       "29    林佳蓉\n",
       "30    孫火清\n",
       "31    李佳彥\n",
       "32    李彥伸\n",
       "33    張軒宸\n",
       "34    吳欣書\n",
       "35    蔡嘉音\n",
       "36    黃偉剛\n",
       "37    林俊翔\n",
       "38    錢欣潔\n",
       "39    楊火帆\n",
       "40    簡佳樺\n",
       "41    黃奎紹\n",
       "42    李佳彥\n",
       "43    張彥博\n",
       "44    林希啟\n",
       "45    林向鈺\n",
       "46    張天亨\n",
       "47    洪阿惠\n",
       "48    劉耿琦\n",
       "49    賴又琦\n",
       "Name: 姓名, dtype: object"
      ]
     },
     "metadata": {},
     "output_type": "display_data"
    },
    {
     "data": {
      "text/plain": [
       "'余丞苓'"
      ]
     },
     "metadata": {},
     "output_type": "display_data"
    },
    {
     "name": "stdout",
     "output_type": "stream",
     "text": [
      "==============\n"
     ]
    },
    {
     "data": {
      "text/plain": [
       "0    余丞苓\n",
       "1    潘俊賢\n",
       "2    賴昌韻\n",
       "Name: 姓名, dtype: object"
      ]
     },
     "metadata": {},
     "output_type": "display_data"
    },
    {
     "name": "stdout",
     "output_type": "stream",
     "text": [
      "==============\n"
     ]
    },
    {
     "data": {
      "text/plain": [
       "47    洪阿惠\n",
       "48    劉耿琦\n",
       "49    賴又琦\n",
       "Name: 姓名, dtype: object"
      ]
     },
     "metadata": {},
     "output_type": "display_data"
    },
    {
     "name": "stdout",
     "output_type": "stream",
     "text": [
      "==============\n"
     ]
    },
    {
     "data": {
      "text/plain": [
       "0    余丞苓\n",
       "5    周怡啟\n",
       "8    馬彥文\n",
       "Name: 姓名, dtype: object"
      ]
     },
     "metadata": {},
     "output_type": "display_data"
    }
   ],
   "source": [
    "name_s\n",
    "display(name_s)\n",
    "display(name_s[0])\n",
    "print(\"==============\")\n",
    "display(name_s[:3])\n",
    "print(\"==============\")\n",
    "display(name_s[-3:])\n",
    "print(\"==============\")\n",
    "display(name_s[[0,5,8]])"
   ]
  }
 ],
 "metadata": {
  "kernelspec": {
   "display_name": "Python 3",
   "language": "python",
   "name": "python3"
  },
  "language_info": {
   "codemirror_mode": {
    "name": "ipython",
    "version": 3
   },
   "file_extension": ".py",
   "mimetype": "text/x-python",
   "name": "python",
   "nbconvert_exporter": "python",
   "pygments_lexer": "ipython3",
   "version": "3.10.12"
  },
  "orig_nbformat": 4
 },
 "nbformat": 4,
 "nbformat_minor": 2
}
