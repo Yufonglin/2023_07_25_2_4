{
 "cells": [
  {
   "cell_type": "code",
   "execution_count": 2,
   "metadata": {},
   "outputs": [
    {
     "data": {
      "text/plain": [
       "0      98\n",
       "1      63\n",
       "2      83\n",
       "3      50\n",
       "4      82\n",
       "5      80\n",
       "6      71\n",
       "7      63\n",
       "8      99\n",
       "9      92\n",
       "10     77\n",
       "11     59\n",
       "12     90\n",
       "13     79\n",
       "14     71\n",
       "15     84\n",
       "16     73\n",
       "17     63\n",
       "18     74\n",
       "19     66\n",
       "20     90\n",
       "21     51\n",
       "22     68\n",
       "23     62\n",
       "24     90\n",
       "25     91\n",
       "26     90\n",
       "27     55\n",
       "28    100\n",
       "29     61\n",
       "30     83\n",
       "31     94\n",
       "32     87\n",
       "33     75\n",
       "34    100\n",
       "35     62\n",
       "36     81\n",
       "37     81\n",
       "38     86\n",
       "39     63\n",
       "40     65\n",
       "41     77\n",
       "42     67\n",
       "43     77\n",
       "44     52\n",
       "45     82\n",
       "46     92\n",
       "47     97\n",
       "48     57\n",
       "49     74\n",
       "Name: 國文, dtype: int64"
      ]
     },
     "execution_count": 2,
     "metadata": {},
     "output_type": "execute_result"
    }
   ],
   "source": [
    "import pandas as pd\n",
    "df = pd.read_csv('學生成績.csv')\n",
    "df[\"國文\"]"
   ]
  },
  {
   "cell_type": "code",
   "execution_count": 4,
   "metadata": {},
   "outputs": [
    {
     "data": {
      "text/plain": [
       "學號       3\n",
       "姓名     賴昌韻\n",
       "國文      83\n",
       "英文      54\n",
       "數學      73\n",
       "地理      92\n",
       "歷史      93\n",
       "總分     395\n",
       "平均    79.0\n",
       "Name: 2, dtype: object"
      ]
     },
     "execution_count": 4,
     "metadata": {},
     "output_type": "execute_result"
    }
   ],
   "source": [
    "df.iloc[2]"
   ]
  },
  {
   "cell_type": "code",
   "execution_count": 6,
   "metadata": {},
   "outputs": [
    {
     "data": {
      "text/html": [
       "<div>\n",
       "<style scoped>\n",
       "    .dataframe tbody tr th:only-of-type {\n",
       "        vertical-align: middle;\n",
       "    }\n",
       "\n",
       "    .dataframe tbody tr th {\n",
       "        vertical-align: top;\n",
       "    }\n",
       "\n",
       "    .dataframe thead th {\n",
       "        text-align: right;\n",
       "    }\n",
       "</style>\n",
       "<table border=\"1\" class=\"dataframe\">\n",
       "  <thead>\n",
       "    <tr style=\"text-align: right;\">\n",
       "      <th></th>\n",
       "      <th>學號</th>\n",
       "      <th>姓名</th>\n",
       "      <th>國文</th>\n",
       "      <th>英文</th>\n",
       "      <th>數學</th>\n",
       "      <th>地理</th>\n",
       "      <th>歷史</th>\n",
       "      <th>總分</th>\n",
       "      <th>平均</th>\n",
       "    </tr>\n",
       "  </thead>\n",
       "  <tbody>\n",
       "    <tr>\n",
       "      <th>0</th>\n",
       "      <td>1</td>\n",
       "      <td>余丞苓</td>\n",
       "      <td>98</td>\n",
       "      <td>87</td>\n",
       "      <td>92</td>\n",
       "      <td>71</td>\n",
       "      <td>83</td>\n",
       "      <td>431</td>\n",
       "      <td>86.2</td>\n",
       "    </tr>\n",
       "    <tr>\n",
       "      <th>1</th>\n",
       "      <td>2</td>\n",
       "      <td>潘俊賢</td>\n",
       "      <td>63</td>\n",
       "      <td>97</td>\n",
       "      <td>66</td>\n",
       "      <td>96</td>\n",
       "      <td>80</td>\n",
       "      <td>402</td>\n",
       "      <td>80.4</td>\n",
       "    </tr>\n",
       "    <tr>\n",
       "      <th>2</th>\n",
       "      <td>3</td>\n",
       "      <td>賴昌韻</td>\n",
       "      <td>83</td>\n",
       "      <td>54</td>\n",
       "      <td>73</td>\n",
       "      <td>92</td>\n",
       "      <td>93</td>\n",
       "      <td>395</td>\n",
       "      <td>79.0</td>\n",
       "    </tr>\n",
       "  </tbody>\n",
       "</table>\n",
       "</div>"
      ],
      "text/plain": [
       "   學號   姓名  國文  英文  數學  地理  歷史   總分    平均\n",
       "0   1  余丞苓  98  87  92  71  83  431  86.2\n",
       "1   2  潘俊賢  63  97  66  96  80  402  80.4\n",
       "2   3  賴昌韻  83  54  73  92  93  395  79.0"
      ]
     },
     "execution_count": 6,
     "metadata": {},
     "output_type": "execute_result"
    }
   ],
   "source": [
    "df[:3]"
   ]
  }
 ],
 "metadata": {
  "kernelspec": {
   "display_name": "Python 3",
   "language": "python",
   "name": "python3"
  },
  "language_info": {
   "codemirror_mode": {
    "name": "ipython",
    "version": 3
   },
   "file_extension": ".py",
   "mimetype": "text/x-python",
   "name": "python",
   "nbconvert_exporter": "python",
   "pygments_lexer": "ipython3",
   "version": "3.10.12"
  },
  "orig_nbformat": 4
 },
 "nbformat": 4,
 "nbformat_minor": 2
}
