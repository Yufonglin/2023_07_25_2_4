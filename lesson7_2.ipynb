{
 "cells": [
  {
   "cell_type": "code",
   "execution_count": 3,
   "metadata": {},
   "outputs": [],
   "source": [
    "#參數沒有default值\n",
    "def score(chines,english,math):\n",
    "    print(f\"國文:{chines},英文{english},數學:{math} \")\n",
    "    "
   ]
  },
  {
   "cell_type": "code",
   "execution_count": 4,
   "metadata": {},
   "outputs": [
    {
     "name": "stdout",
     "output_type": "stream",
     "text": [
      "國文:78,英文89,數學:100 \n"
     ]
    }
   ],
   "source": [
    "score(78,89,math=100)"
   ]
  },
  {
   "cell_type": "code",
   "execution_count": 13,
   "metadata": {},
   "outputs": [
    {
     "name": "stdout",
     "output_type": "stream",
     "text": [
      "國文:89,英文60,數學:60 \n",
      "國文:90,英文60,數學:89 \n",
      "國文:75,英文95,數學:45 \n"
     ]
    }
   ],
   "source": [
    "#參數有default值，一定要放在最後。\n",
    "def score1 (chines,english=60,math=60):\n",
    "    print(f\"國文:{chines},英文{english},數學:{math} \")\n",
    "score1(89)\n",
    "score1(90,math=89)\n",
    "score1(75,math=45,english=95)\n",
    "\n"
   ]
  },
  {
   "cell_type": "code",
   "execution_count": 22,
   "metadata": {},
   "outputs": [
    {
     "name": "stdout",
     "output_type": "stream",
     "text": [
      "2到50的質數是:\n",
      "2 3 5 7 11 13 17 19 23 29 31 37 41 43 47 "
     ]
    }
   ],
   "source": [
    "def print_prime(first,end):\n",
    "    \n",
    "    if first <2:\n",
    "        first=2\n",
    "    print(f\"{first}到{end}的質數是:\")\n",
    "    for num in range(first,end+1):\n",
    "        is_prime = True\n",
    "        for i in range(2,num):\n",
    "            if num % i == 0:\n",
    "                is_prime = False\n",
    "\n",
    "        if is_prime:\n",
    "            print(f\"{num}\",end=\" \")\n",
    "\n",
    "\n",
    "f = int(input(\"請輸入first值：\"))\n",
    "e= int(input(\"請輸入end值：\"))\n",
    "\n",
    "print_prime(f,e)"
   ]
  }
 ],
 "metadata": {
  "kernelspec": {
   "display_name": "Python 3",
   "language": "python",
   "name": "python3"
  },
  "language_info": {
   "codemirror_mode": {
    "name": "ipython",
    "version": 3
   },
   "file_extension": ".py",
   "mimetype": "text/x-python",
   "name": "python",
   "nbconvert_exporter": "python",
   "pygments_lexer": "ipython3",
   "version": "3.10.12"
  },
  "orig_nbformat": 4
 },
 "nbformat": 4,
 "nbformat_minor": 2
}
