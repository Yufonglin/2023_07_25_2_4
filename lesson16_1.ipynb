{
 "cells": [
  {
   "cell_type": "code",
   "execution_count": 19,
   "metadata": {},
   "outputs": [
    {
     "name": "stdout",
     "output_type": "stream",
     "text": [
      "0    4\n",
      "1    7\n",
      "2   -5\n",
      "3    3\n",
      "dtype: int64\n"
     ]
    }
   ],
   "source": [
    "#使用Lis建立\n",
    "\n",
    "import pandas as pd\n",
    "\n",
    "\n",
    "\n",
    "s1 = pd.Series([4,7,-5,3])\n",
    "print(s1)"
   ]
  },
  {
   "cell_type": "code",
   "execution_count": 20,
   "metadata": {},
   "outputs": [
    {
     "data": {
      "text/plain": [
       "RangeIndex(start=0, stop=4, step=1)"
      ]
     },
     "execution_count": 20,
     "metadata": {},
     "output_type": "execute_result"
    }
   ],
   "source": [
    "\n",
    "\n",
    "s1.index"
   ]
  },
  {
   "cell_type": "code",
   "execution_count": 21,
   "metadata": {},
   "outputs": [
    {
     "data": {
      "text/plain": [
       "array([ 4,  7, -5,  3])"
      ]
     },
     "execution_count": 21,
     "metadata": {},
     "output_type": "execute_result"
    }
   ],
   "source": [
    "s1.values"
   ]
  },
  {
   "cell_type": "code",
   "execution_count": 22,
   "metadata": {},
   "outputs": [
    {
     "name": "stdout",
     "output_type": "stream",
     "text": [
      "d    4\n",
      "b    7\n",
      "a   -5\n",
      "c    3\n",
      "dtype: int64\n"
     ]
    }
   ],
   "source": [
    "s2 = pd.Series([4,7,-5,3],index=[\"d\",\"b\",\"a\",\"c\"])\n",
    "print(s2)\n"
   ]
  },
  {
   "cell_type": "code",
   "execution_count": 23,
   "metadata": {},
   "outputs": [
    {
     "data": {
      "text/plain": [
       "Index(['d', 'b', 'a', 'c'], dtype='object')"
      ]
     },
     "execution_count": 23,
     "metadata": {},
     "output_type": "execute_result"
    }
   ],
   "source": [
    "s2.index"
   ]
  },
  {
   "cell_type": "code",
   "execution_count": 24,
   "metadata": {},
   "outputs": [
    {
     "data": {
      "text/plain": [
       "array([ 4,  7, -5,  3])"
      ]
     },
     "execution_count": 24,
     "metadata": {},
     "output_type": "execute_result"
    }
   ],
   "source": [
    "s2.values"
   ]
  },
  {
   "cell_type": "code",
   "execution_count": 25,
   "metadata": {},
   "outputs": [
    {
     "data": {
      "text/plain": [
       "d    4\n",
       "b    7\n",
       "a   -5\n",
       "c    3\n",
       "dtype: int64"
      ]
     },
     "metadata": {},
     "output_type": "display_data"
    },
    {
     "name": "stdout",
     "output_type": "stream",
     "text": [
      "===========\n"
     ]
    },
    {
     "data": {
      "text/plain": [
       "-5"
      ]
     },
     "metadata": {},
     "output_type": "display_data"
    },
    {
     "data": {
      "text/plain": [
       "d    4\n",
       "b    7\n",
       "a    5\n",
       "c    3\n",
       "dtype: int64"
      ]
     },
     "metadata": {},
     "output_type": "display_data"
    },
    {
     "data": {
      "text/plain": [
       "c    3\n",
       "b    7\n",
       "d    4\n",
       "dtype: int64"
      ]
     },
     "metadata": {},
     "output_type": "display_data"
    }
   ],
   "source": [
    "display(s2)\n",
    "print(\"===========\")\n",
    "display(s2[\"a\"])\n",
    "s2[\"a\"]=5\n",
    "display(s2)\n",
    "display(s2[[\"c\",\"b\",\"d\"]])"
   ]
  },
  {
   "cell_type": "code",
   "execution_count": 26,
   "metadata": {},
   "outputs": [
    {
     "data": {
      "text/plain": [
       "d    4\n",
       "b    7\n",
       "a    5\n",
       "c    3\n",
       "dtype: int64"
      ]
     },
     "metadata": {},
     "output_type": "display_data"
    },
    {
     "name": "stdout",
     "output_type": "stream",
     "text": [
      "===========\n",
      "d    4\n",
      "b    7\n",
      "a    5\n",
      "c    3\n",
      "dtype: int64\n",
      "d     8\n",
      "b    14\n",
      "a    10\n",
      "c     6\n",
      "dtype: int64\n"
     ]
    },
    {
     "data": {
      "text/plain": [
       "d      54.598150\n",
       "b    1096.633158\n",
       "a     148.413159\n",
       "c      20.085537\n",
       "dtype: float64"
      ]
     },
     "execution_count": 26,
     "metadata": {},
     "output_type": "execute_result"
    }
   ],
   "source": [
    "import numpy as np\n",
    "display(s2)\n",
    "print(\"===========\")\n",
    "s3 = s2*2\n",
    "print(s2)\n",
    "print(s3)\n",
    "np.exp(s2)"
   ]
  },
  {
   "cell_type": "code",
   "execution_count": 27,
   "metadata": {},
   "outputs": [
    {
     "data": {
      "text/plain": [
       "(False, True)"
      ]
     },
     "execution_count": 27,
     "metadata": {},
     "output_type": "execute_result"
    }
   ],
   "source": [
    "\"e\" in s2 , \"a\" in s2"
   ]
  },
  {
   "cell_type": "code",
   "execution_count": 28,
   "metadata": {},
   "outputs": [
    {
     "data": {
      "text/plain": [
       "國文    78\n",
       "數學    96\n",
       "英文    86\n",
       "dtype: int64"
      ]
     },
     "execution_count": 28,
     "metadata": {},
     "output_type": "execute_result"
    }
   ],
   "source": [
    "#disctionary建立Series\n",
    "sdata = {\"國文\":78,\"英文\":86,\"數學\":96,\"地理\":64,\"歷史\":96}\n",
    "s3 = pd.Series(sdata,index=[\"國文\",\"數學\",\"英文\"])\n",
    "s3"
   ]
  },
  {
   "cell_type": "code",
   "execution_count": 29,
   "metadata": {},
   "outputs": [
    {
     "data": {
      "text/plain": [
       "國文    False\n",
       "數學    False\n",
       "探索     True\n",
       "dtype: bool"
      ]
     },
     "execution_count": 29,
     "metadata": {},
     "output_type": "execute_result"
    }
   ],
   "source": [
    "s4 = pd.Series(sdata,index=[\"國文\",\"數學\",\"探索\"])\n",
    "pd.isnull(s4)"
   ]
  },
  {
   "cell_type": "code",
   "execution_count": 30,
   "metadata": {},
   "outputs": [
    {
     "data": {
      "text/plain": [
       "國文     True\n",
       "數學     True\n",
       "探索    False\n",
       "dtype: bool"
      ]
     },
     "execution_count": 30,
     "metadata": {},
     "output_type": "execute_result"
    }
   ],
   "source": [
    "#實體方法()\n",
    "pd.notnull(s4)"
   ]
  },
  {
   "cell_type": "code",
   "execution_count": 33,
   "metadata": {},
   "outputs": [
    {
     "data": {
      "text/plain": [
       "國文    False\n",
       "數學    False\n",
       "探索     True\n",
       "dtype: bool"
      ]
     },
     "execution_count": 33,
     "metadata": {},
     "output_type": "execute_result"
    }
   ],
   "source": [
    "#實體方法()\n",
    "s4.isnull()"
   ]
  },
  {
   "cell_type": "code",
   "execution_count": 37,
   "metadata": {},
   "outputs": [
    {
     "data": {
      "text/plain": [
       "台北    35000\n",
       "桃園    71000\n",
       "台中    16000\n",
       "高雄     5000\n",
       "dtype: int64"
      ]
     },
     "metadata": {},
     "output_type": "display_data"
    },
    {
     "name": "stdout",
     "output_type": "stream",
     "text": [
      "==============\n"
     ]
    },
    {
     "data": {
      "text/plain": [
       "桃園    35000\n",
       "台北    71000\n",
       "台中    16000\n",
       "高雄     5000\n",
       "dtype: int64"
      ]
     },
     "metadata": {},
     "output_type": "display_data"
    },
    {
     "name": "stdout",
     "output_type": "stream",
     "text": [
      "==============\n"
     ]
    },
    {
     "data": {
      "text/plain": [
       "台中     32000\n",
       "台北    106000\n",
       "桃園    106000\n",
       "高雄     10000\n",
       "dtype: int64"
      ]
     },
     "execution_count": 37,
     "metadata": {},
     "output_type": "execute_result"
    }
   ],
   "source": [
    "sdata ={\"台北\":35000,\"桃園\":71000,\"台中\":16000,\"高雄\":5000}\n",
    "s5 = pd.Series(sdata)\n",
    "display(s5)\n",
    "print(\"==============\")\n",
    "sdata ={\"桃園\":35000,\"台北\":71000,\"台中\":16000,\"高雄\":5000}\n",
    "s6 = pd.Series(sdata)\n",
    "display(s6)\n",
    "print(\"==============\")\n",
    "s6+s5"
   ]
  },
  {
   "cell_type": "code",
   "execution_count": 39,
   "metadata": {},
   "outputs": [
    {
     "data": {
      "text/plain": [
       "台北        NaN\n",
       "桃園    71000.0\n",
       "台中    16000.0\n",
       "高雄     5000.0\n",
       "dtype: float64"
      ]
     },
     "metadata": {},
     "output_type": "display_data"
    },
    {
     "name": "stdout",
     "output_type": "stream",
     "text": [
      "============\n"
     ]
    },
    {
     "data": {
      "text/plain": [
       "桃園    35000\n",
       "台北    71000\n",
       "台中    16000\n",
       "高雄     5000\n",
       "dtype: int64"
      ]
     },
     "metadata": {},
     "output_type": "display_data"
    },
    {
     "name": "stdout",
     "output_type": "stream",
     "text": [
      "==============\n"
     ]
    },
    {
     "data": {
      "text/plain": [
       "台中     32000.0\n",
       "台北         NaN\n",
       "桃園    106000.0\n",
       "高雄     10000.0\n",
       "dtype: float64"
      ]
     },
     "execution_count": 39,
     "metadata": {},
     "output_type": "execute_result"
    }
   ],
   "source": [
    "#NaN+任意數字 = NaN\n",
    "s5\n",
    "s5['台北'] = None\n",
    "display(s5)\n",
    "print(\"============\")\n",
    "display(s6)\n",
    "print(\"==============\")\n",
    "\n",
    "s5 + s6"
   ]
  },
  {
   "cell_type": "code",
   "execution_count": 49,
   "metadata": {},
   "outputs": [
    {
     "data": {
      "text/plain": [
       "桃園    35000\n",
       "台北    71000\n",
       "台中    16000\n",
       "高雄     5000\n",
       "dtype: int64"
      ]
     },
     "execution_count": 49,
     "metadata": {},
     "output_type": "execute_result"
    }
   ],
   "source": [
    "sdata ={\"桃園\":35000,\"台北\":71000,\"台中\":16000,\"高雄\":5000}\n",
    "s7 = pd.Series(sdata)\n",
    "s7"
   ]
  },
  {
   "cell_type": "code",
   "execution_count": 52,
   "metadata": {},
   "outputs": [
    {
     "data": {
      "text/plain": [
       "a    35000\n",
       "b    71000\n",
       "c    16000\n",
       "d     5000\n",
       "dtype: int64"
      ]
     },
     "execution_count": 52,
     "metadata": {},
     "output_type": "execute_result"
    }
   ],
   "source": [
    "#values只可以取出值\n",
    "s7.values\n",
    "s7.index=[\"a\",\"b\",\"c\",\"d\"]\n",
    "s7\n",
    "\n"
   ]
  },
  {
   "cell_type": "code",
   "execution_count": 56,
   "metadata": {},
   "outputs": [
    {
     "name": "stdout",
     "output_type": "stream",
     "text": [
      "++++++++++++++++\n"
     ]
    },
    {
     "data": {
      "text/plain": [
       "縣市\n",
       "桃園    35000\n",
       "台北    71000\n",
       "台中    16000\n",
       "高雄     5000\n",
       "Name: 台灣4縣市, dtype: int64"
      ]
     },
     "metadata": {},
     "output_type": "display_data"
    }
   ],
   "source": [
    "#Series 可以有name\n",
    "sdata ={\"桃園\":35000,\"台北\":71000,\"台中\":16000,\"高雄\":5000}\n",
    "s8= pd.Series(sdata)\n",
    "s8.name = \"台灣4縣市\"\n",
    "s8\n",
    "print(\"++++++++++++++++\")\n",
    "\n",
    "s8.index.name = \"縣市\"\n",
    "display(s8)\n"
   ]
  }
 ],
 "metadata": {
  "kernelspec": {
   "display_name": "Python 3",
   "language": "python",
   "name": "python3"
  },
  "language_info": {
   "codemirror_mode": {
    "name": "ipython",
    "version": 3
   },
   "file_extension": ".py",
   "mimetype": "text/x-python",
   "name": "python",
   "nbconvert_exporter": "python",
   "pygments_lexer": "ipython3",
   "version": "3.10.12"
  },
  "orig_nbformat": 4
 },
 "nbformat": 4,
 "nbformat_minor": 2
}
