{
 "cells": [
  {
   "cell_type": "code",
   "execution_count": 7,
   "metadata": {},
   "outputs": [
    {
     "ename": "SyntaxError",
     "evalue": "incomplete input (250297653.py, line 7)",
     "output_type": "error",
     "traceback": [
      "\u001b[0;36m  Cell \u001b[0;32mIn[7], line 7\u001b[0;36m\u001b[0m\n\u001b[0;31m    # print(\"下載成功\")\u001b[0m\n\u001b[0m                   ^\u001b[0m\n\u001b[0;31mSyntaxError\u001b[0m\u001b[0;31m:\u001b[0m incomplete input\n"
     ]
    }
   ],
   "source": [
    "import requests\n",
    "\n",
    "url = 'https://opendata.cwb.gov.tw/fileapi/v1/opendataapi/F-C0032-001?Authorization=rdec-key-123-45678-011121314&format=JSON'\n",
    "r = requests.get(url)\n",
    "print(type(r))\n",
    "if r.status_code ==200:\n",
    "   # print(\"下載成功\")"
   ]
  },
  {
   "cell_type": "code",
   "execution_count": null,
   "metadata": {},
   "outputs": [],
   "source": [
    "r.json()"
   ]
  },
  {
   "cell_type": "code",
   "execution_count": null,
   "metadata": {},
   "outputs": [],
   "source": [
    "import csv\n",
    "with open('目前各縣市天氣預測.csv',mode='w',encoding='utf-8',newline=\"\") as file:\n",
    "    writer = csv.DictWriter(file,fieldnames=['城市','啟始時間','結束時間','最高溫度','最低溫度','感覺'])\n",
    "    writer.writeheader()\n",
    "    writer.writerows(weather_list)\n",
    "print('存檔成功')"
   ]
  },
  {
   "cell_type": "code",
   "execution_count": null,
   "metadata": {},
   "outputs": [],
   "source": [
    "ll_json = r.json()\n",
    "locations = all_json['cwbopendata']['dataset']['location']\n",
    "weather_list = []\n",
    "for item in locations:\n",
    "    city_item = {}\n",
    "    city_item['城市'] = item['locationName']\n",
    "    city_item['啟始時間'] = item['weatherElement'][1]['time'][0]['startTime']\n",
    "    city_item['結束時間'] = item['weatherElement'][1]['time'][0]['endTime']\n",
    "    city_item['最高溫度'] = float(item['weatherElement'][1]['time'][0]['parameter']['parameterName'])\n",
    "    city_item['最低溫度'] = float(item['weatherElement'][2]['time'][0]['parameter']['parameterName'])\n",
    "    city_item['感覺'] = item['weatherElement'][3]['time'][0]['parameter']['parameterName']\n",
    "    weather_list.append(city_item)\n",
    "weather_list"
   ]
  },
  {
   "cell_type": "code",
   "execution_count": null,
   "metadata": {},
   "outputs": [],
   "source": [
    "import pandas as pd \n",
    "weather_df = pd.DataFrame(weather_list)\n",
    "weather_df"
   ]
  }
 ],
 "metadata": {
  "kernelspec": {
   "display_name": "Python 3",
   "language": "python",
   "name": "python3"
  },
  "language_info": {
   "codemirror_mode": {
    "name": "ipython",
    "version": 3
   },
   "file_extension": ".py",
   "mimetype": "text/x-python",
   "name": "python",
   "nbconvert_exporter": "python",
   "pygments_lexer": "ipython3",
   "version": "3.10.12"
  },
  "orig_nbformat": 4
 },
 "nbformat": 4,
 "nbformat_minor": 2
}
