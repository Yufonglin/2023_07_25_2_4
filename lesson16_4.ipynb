{
 "cells": [
  {
   "cell_type": "code",
   "execution_count": 5,
   "metadata": {},
   "outputs": [
    {
     "ename": "ModuleNotFoundError",
     "evalue": "No module named 'requests'",
     "output_type": "error",
     "traceback": [
      "\u001b[0;31m---------------------------------------------------------------------------\u001b[0m",
      "\u001b[0;31mModuleNotFoundError\u001b[0m                       Traceback (most recent call last)",
      "\u001b[1;32m/workspaces/2023_07_25_2_4/lesson16_4.ipynb 儲存格 1\u001b[0m line \u001b[0;36m1\n\u001b[0;32m----> <a href='vscode-notebook-cell://codespaces%2Bominous-space-guide-pjrgggwgw54q2r9vw/workspaces/2023_07_25_2_4/lesson16_4.ipynb#W2sdnNjb2RlLXJlbW90ZQ%3D%3D?line=0'>1</a>\u001b[0m \u001b[39mimport\u001b[39;00m \u001b[39mrequests\u001b[39;00m\n\u001b[1;32m      <a href='vscode-notebook-cell://codespaces%2Bominous-space-guide-pjrgggwgw54q2r9vw/workspaces/2023_07_25_2_4/lesson16_4.ipynb#W2sdnNjb2RlLXJlbW90ZQ%3D%3D?line=2'>3</a>\u001b[0m url \u001b[39m=\u001b[39m \u001b[39m'\u001b[39m\u001b[39mhttps://opendata.cwb.gov.tw/fileapi/v1/opendataapi/F-C0032-001?Authorization=rdec-key-123-45678-011121314&format=JSON\u001b[39m\u001b[39m'\u001b[39m\n\u001b[1;32m      <a href='vscode-notebook-cell://codespaces%2Bominous-space-guide-pjrgggwgw54q2r9vw/workspaces/2023_07_25_2_4/lesson16_4.ipynb#W2sdnNjb2RlLXJlbW90ZQ%3D%3D?line=3'>4</a>\u001b[0m r \u001b[39m=\u001b[39m requests\u001b[39m.\u001b[39mget(url)\n",
      "\u001b[0;31mModuleNotFoundError\u001b[0m: No module named 'requests'"
     ]
    }
   ],
   "source": [
    "import requests\n",
    "\n",
    "url = 'https://opendata.cwb.gov.tw/fileapi/v1/opendataapi/F-C0032-001?Authorization=rdec-key-123-45678-011121314&format=JSON'\n",
    "r = requests.get(url)\n",
    "if r.status_code == 200:\n",
    "    print(\"下載成功\")"
   ]
  },
  {
   "cell_type": "code",
   "execution_count": null,
   "metadata": {},
   "outputs": [],
   "source": [
    "all_json = r.json()\n",
    "locations = all_json['cwbopendata']['dataset']['location']\n",
    "weather_list = []\n",
    "for item in locations:\n",
    "    city_item = {}\n",
    "    city_item['城市'] = item['locationName']\n",
    "    city_item['啟始時間'] = item['weatherElement'][1]['time'][0]['startTime']\n",
    "    city_item['結束時間'] = item['weatherElement'][1]['time'][0]['endTime']\n",
    "    city_item['最高溫度'] = float(item['weatherElement'][1]['time'][0]['parameter']['parameterName'])\n",
    "    city_item['最低溫度'] = float(item['weatherElement'][2]['time'][0]['parameter']['parameterName'])\n",
    "    city_item['感覺'] = item['weatherElement'][3]['time'][0]['parameter']['parameterName']\n",
    "    weather_list.append(city_item)\n",
    "weather_list"
   ]
  },
  {
   "cell_type": "code",
   "execution_count": 6,
   "metadata": {},
   "outputs": [
    {
     "ename": "NameError",
     "evalue": "name 'weather_list' is not defined",
     "output_type": "error",
     "traceback": [
      "\u001b[0;31m---------------------------------------------------------------------------\u001b[0m",
      "\u001b[0;31mNameError\u001b[0m                                 Traceback (most recent call last)",
      "\u001b[1;32m/workspaces/2023_07_25_2_4/lesson16_4.ipynb 儲存格 3\u001b[0m line \u001b[0;36m2\n\u001b[1;32m      <a href='vscode-notebook-cell://codespaces%2Bominous-space-guide-pjrgggwgw54q2r9vw/workspaces/2023_07_25_2_4/lesson16_4.ipynb#W4sdnNjb2RlLXJlbW90ZQ%3D%3D?line=0'>1</a>\u001b[0m \u001b[39mimport\u001b[39;00m \u001b[39mpandas\u001b[39;00m \u001b[39mas\u001b[39;00m \u001b[39mpd\u001b[39;00m \n\u001b[0;32m----> <a href='vscode-notebook-cell://codespaces%2Bominous-space-guide-pjrgggwgw54q2r9vw/workspaces/2023_07_25_2_4/lesson16_4.ipynb#W4sdnNjb2RlLXJlbW90ZQ%3D%3D?line=1'>2</a>\u001b[0m weather_df \u001b[39m=\u001b[39m pd\u001b[39m.\u001b[39mDataFrame(weather_list)\n\u001b[1;32m      <a href='vscode-notebook-cell://codespaces%2Bominous-space-guide-pjrgggwgw54q2r9vw/workspaces/2023_07_25_2_4/lesson16_4.ipynb#W4sdnNjb2RlLXJlbW90ZQ%3D%3D?line=2'>3</a>\u001b[0m weather_df\n",
      "\u001b[0;31mNameError\u001b[0m: name 'weather_list' is not defined"
     ]
    }
   ],
   "source": [
    "import pandas as pd \n",
    "weather_df = pd.DataFrame(weather_list)\n",
    "weather_df"
   ]
  }
 ],
 "metadata": {
  "kernelspec": {
   "display_name": "Python 3",
   "language": "python",
   "name": "python3"
  },
  "language_info": {
   "codemirror_mode": {
    "name": "ipython",
    "version": 3
   },
   "file_extension": ".py",
   "mimetype": "text/x-python",
   "name": "python",
   "nbconvert_exporter": "python",
   "pygments_lexer": "ipython3",
   "version": "3.10.12"
  },
  "orig_nbformat": 4
 },
 "nbformat": 4,
 "nbformat_minor": 2
}
