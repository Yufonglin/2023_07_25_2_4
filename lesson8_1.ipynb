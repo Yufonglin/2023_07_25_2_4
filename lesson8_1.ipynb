{
 "cells": [
  {
   "cell_type": "code",
   "execution_count": 14,
   "metadata": {},
   "outputs": [
    {
     "name": "stdout",
     "output_type": "stream",
     "text": [
      "Hello!\n",
      "World!\n"
     ]
    }
   ],
   "source": [
    "greeting = \"Hello!World!\"\n",
    "\n",
    "print(greeting[:6])\n",
    "print(greeting[-6:])"
   ]
  },
  {
   "cell_type": "code",
   "execution_count": 37,
   "metadata": {},
   "outputs": [
    {
     "data": {
      "text/plain": [
       "'Taipi'"
      ]
     },
     "execution_count": 37,
     "metadata": {},
     "output_type": "execute_result"
    }
   ],
   "source": [
    "city = \"taipi\"\n",
    "display(type(city))\n",
    "city2 = city.capitalize()   #-> capitalize，將第一個字寫成大寫，不影響原始。 #字串實體方法\n",
    "city2\n"
   ]
  },
  {
   "cell_type": "code",
   "execution_count": 1,
   "metadata": {},
   "outputs": [
    {
     "name": "stdout",
     "output_type": "stream",
     "text": [
      "penny\n",
      "aenny\n"
     ]
    }
   ],
   "source": [
    "#str.replace() #置換\n",
    "name = \"Henny\"\n",
    "name = name.replace(\"H\",\"p\")\n",
    "print(name)\n",
    "\n",
    "name =\"a\"+name[1:]\n",
    "print(name)\n",
    "\n",
    "\n",
    "  "
   ]
  },
  {
   "cell_type": "code",
   "execution_count": 46,
   "metadata": {},
   "outputs": [
    {
     "data": {
      "text/plain": [
       "8"
      ]
     },
     "execution_count": 46,
     "metadata": {},
     "output_type": "execute_result"
    }
   ],
   "source": [
    "#str.find()\n",
    "str1 = \"this is python TUtorial there\"\n",
    "str1.find(\"python\")\n"
   ]
  },
  {
   "cell_type": "code",
   "execution_count": 47,
   "metadata": {},
   "outputs": [
    {
     "data": {
      "text/plain": [
       "'a-b-c-d-e'"
      ]
     },
     "execution_count": 47,
     "metadata": {},
     "output_type": "execute_result"
    }
   ],
   "source": [
    "#str.join(),連結\n",
    "str1 = \"-\"\n",
    "\"-\".join(\"abcde\")\n"
   ]
  },
  {
   "cell_type": "code",
   "execution_count": 52,
   "metadata": {},
   "outputs": [
    {
     "name": "stdout",
     "output_type": "stream",
     "text": [
      "python,java,c++,ruby\n"
     ]
    },
    {
     "data": {
      "text/plain": [
       "['python', 'java', 'c++', 'ruby']"
      ]
     },
     "execution_count": 52,
     "metadata": {},
     "output_type": "execute_result"
    }
   ],
   "source": [
    "#str.split()，切割\n",
    "str2 =\"python,java,c++,ruby\" \n",
    "print(str2)\n",
    "str2.split(sep=\",\")"
   ]
  },
  {
   "cell_type": "code",
   "execution_count": 57,
   "metadata": {},
   "outputs": [
    {
     "name": "stdout",
     "output_type": "stream",
     "text": [
      "你的年紀123\n"
     ]
    }
   ],
   "source": [
    "#print(\"請請輸入年齡\")\n",
    "age:str = input(\"請請輸入年齡\")\n",
    "if not age.isdigit():\n",
    "    print(\"樹入錯誤\")\n",
    "else:\n",
    "    print(f\"你的年紀{age}\")"
   ]
  },
  {
   "cell_type": "code",
   "execution_count": 62,
   "metadata": {},
   "outputs": [
    {
     "data": {
      "text/plain": [
       "'-------Hello--------'"
      ]
     },
     "execution_count": 62,
     "metadata": {},
     "output_type": "execute_result"
    }
   ],
   "source": [
    "\"Helo\".rjust(20)\n",
    "\"Hello\".ljust(20)\n",
    "\"Hello\".center(20,\"-\")"
   ]
  },
  {
   "cell_type": "code",
   "execution_count": 77,
   "metadata": {},
   "outputs": [
    {
     "name": "stdout",
     "output_type": "stream",
     "text": [
      "---------早餐---------\n",
      "三明治............ $25\n",
      "火腿蛋............ $35\n"
     ]
    }
   ],
   "source": [
    "print(\"早餐\".center(20,\"-\"))\n",
    "print(\"三明治\".ljust(15,\".\")+\"$25\".rjust(4))\n",
    "print(\"火腿蛋\".ljust(15,\".\")+\"$35\".rjust(4))\n"
   ]
  },
  {
   "cell_type": "code",
   "execution_count": 7,
   "metadata": {},
   "outputs": [
    {
     "name": "stdout",
     "output_type": "stream",
     "text": [
      "您的手機號碼是:0953-658-667\n"
     ]
    }
   ],
   "source": [
    "# 檢查台灣手機號碼輸入格式(xxxx-xxx-xxx)\n",
    "def isPhoneNumber(text:str) -> bool:\n",
    "    if len(text) != 12:\n",
    "        return False\n",
    "    elif not text[:4].isdigit():\n",
    "        return False\n",
    "    elif text[4] != \"-\":\n",
    "        return False\n",
    "    elif not text[5:8].isdigit():\n",
    "        return False\n",
    "    elif text[8] != \"-\":\n",
    "        return False\n",
    "    elif not text[-3:].isdigit():\n",
    "        return False\n",
    "    \n",
    "    return True\n",
    "\n",
    "phone_num = input(\"請輸入手機號碼xxxx-xxx-xxx:\")\n",
    "if isPhoneNumber(phone_num):\n",
    "    print(f\"您的手機號碼是:{phone_num}\")\n",
    "else:\n",
    "    print(f\"您的手機號碼是:{phone_num},格式有錯\")"
   ]
  },
  {
   "cell_type": "code",
   "execution_count": 10,
   "metadata": {},
   "outputs": [
    {
     "name": "stdout",
     "output_type": "stream",
     "text": [
      "您的手機號碼是:09536-658-666,格式有錯\n"
     ]
    }
   ],
   "source": [
    "# 檢查台灣手機號碼輸入格式(xxxx-xxx-xxx)\n",
    "#正規則表達式\n",
    "#re\n",
    "import re\n",
    "def isPhoneNumber(text:str) -> bool:\n",
    "    phomenumerega = re.compile(r\"\\d\\d\\d\\d-\\d\\d\\d-\\d\\d\\d\") #->.compile是用來當做比對的模板\n",
    "    if phomenumerega.match(text) is None:  #->如果比對失敗會回傳None，== none 需要用is none表示\n",
    "        return False\n",
    "    else:\n",
    "        return True\n",
    "\n",
    "\n",
    "phone_num = input(\"請輸入手機號碼xxxx-xxx-xxx:\")\n",
    "if isPhoneNumber(phone_num):\n",
    "    print(f\"您的手機號碼是:{phone_num}\")\n",
    "else:\n",
    "    print(f\"您的手機號碼是:{phone_num},格式有錯\")"
   ]
  },
  {
   "cell_type": "code",
   "execution_count": 12,
   "metadata": {},
   "outputs": [
    {
     "name": "stdout",
     "output_type": "stream",
     "text": [
      "您的手機號碼是:wnedy55gmail.com,格式有錯\n"
     ]
    }
   ],
   "source": [
    "# 檢查email格式\n",
    "#正規則表達式\n",
    "#re\n",
    "import re\n",
    "def isemail(text:str) -> bool:\n",
    "    isemailregex = re.compile(r\"^[a-zA-Z0-9._%+-]+@[a-zA-Z0-9.-]+\\.[a-zA-Z]{2,}$\") #->.compile是用來當做比對的模板\n",
    "    if isemailregex.match(text) is None:  #->如果比對失敗會回傳None，== none 需要用is none表示\n",
    "        return False\n",
    "    else:\n",
    "        return True\n",
    "\n",
    "\n",
    "email = input(\"請輸入emailLxxxx-xxx-xxx:\")\n",
    "if isemail(email):\n",
    "    print(f\"您的手機號碼是:{email}\")\n",
    "else:\n",
    "    print(f\"您的手機號碼是:{email},格式有錯\")"
   ]
  }
 ],
 "metadata": {
  "kernelspec": {
   "display_name": "Python 3",
   "language": "python",
   "name": "python3"
  },
  "language_info": {
   "codemirror_mode": {
    "name": "ipython",
    "version": 3
   },
   "file_extension": ".py",
   "mimetype": "text/x-python",
   "name": "python",
   "nbconvert_exporter": "python",
   "pygments_lexer": "ipython3",
   "version": "3.10.12"
  },
  "orig_nbformat": 4
 },
 "nbformat": 4,
 "nbformat_minor": 2
}
