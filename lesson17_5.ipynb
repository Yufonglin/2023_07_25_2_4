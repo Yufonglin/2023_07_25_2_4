{
 "cells": [
  {
   "cell_type": "code",
   "execution_count": 2,
   "metadata": {},
   "outputs": [
    {
     "data": {
      "text/plain": [
       "0      98\n",
       "1      63\n",
       "2      83\n",
       "3      50\n",
       "4      82\n",
       "5      80\n",
       "6      71\n",
       "7      63\n",
       "8      99\n",
       "9      92\n",
       "10     77\n",
       "11     59\n",
       "12     90\n",
       "13     79\n",
       "14     71\n",
       "15     84\n",
       "16     73\n",
       "17     63\n",
       "18     74\n",
       "19     66\n",
       "20     90\n",
       "21     51\n",
       "22     68\n",
       "23     62\n",
       "24     90\n",
       "25     91\n",
       "26     90\n",
       "27     55\n",
       "28    100\n",
       "29     61\n",
       "30     83\n",
       "31     94\n",
       "32     87\n",
       "33     75\n",
       "34    100\n",
       "35     62\n",
       "36     81\n",
       "37     81\n",
       "38     86\n",
       "39     63\n",
       "40     65\n",
       "41     77\n",
       "42     67\n",
       "43     77\n",
       "44     52\n",
       "45     82\n",
       "46     92\n",
       "47     97\n",
       "48     57\n",
       "49     74\n",
       "Name: 國文, dtype: int64"
      ]
     },
     "execution_count": 2,
     "metadata": {},
     "output_type": "execute_result"
    }
   ],
   "source": [
    "import pandas as pd\n",
    "df = pd.read_csv('學生成績.csv')\n",
    "#使用subscript 搜尋Series值\n",
    "chinese_s = df[\"國文\"]\n",
    "chinese_s"
   ]
  },
  {
   "cell_type": "code",
   "execution_count": 8,
   "metadata": {},
   "outputs": [
    {
     "data": {
      "text/plain": [
       "44"
      ]
     },
     "execution_count": 8,
     "metadata": {},
     "output_type": "execute_result"
    }
   ],
   "source": [
    "chinese_s [chinese_s >= 60]"
   ]
  },
  {
   "cell_type": "code",
   "execution_count": 10,
   "metadata": {},
   "outputs": [
    {
     "data": {
      "text/plain": [
       "6     59\n",
       "10    55\n",
       "14    54\n",
       "35    58\n",
       "37    59\n",
       "39    58\n",
       "Name: 數學, dtype: int64"
      ]
     },
     "execution_count": 10,
     "metadata": {},
     "output_type": "execute_result"
    }
   ],
   "source": [
    "#數學及格的\n",
    "math_ = df[\"數學\"]\n",
    "math_[math_<=60]\n"
   ]
  }
 ],
 "metadata": {
  "kernelspec": {
   "display_name": "Python 3",
   "language": "python",
   "name": "python3"
  },
  "language_info": {
   "codemirror_mode": {
    "name": "ipython",
    "version": 3
   },
   "file_extension": ".py",
   "mimetype": "text/x-python",
   "name": "python",
   "nbconvert_exporter": "python",
   "pygments_lexer": "ipython3",
   "version": "3.10.12"
  },
  "orig_nbformat": 4
 },
 "nbformat": 4,
 "nbformat_minor": 2
}
