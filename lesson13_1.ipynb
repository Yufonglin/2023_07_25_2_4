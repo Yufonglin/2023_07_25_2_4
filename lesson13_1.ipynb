{
 "cells": [
  {
   "cell_type": "code",
   "execution_count": 45,
   "metadata": {},
   "outputs": [],
   "source": [
    "class Student:\n",
    "    def __init__(self,name,chinese,english,math) -> None:\n",
    "        #實體的ATTRIBUTE\n",
    "        self.name =name\n",
    "        self.chinese =chinese\n",
    "        self.english = english\n",
    "        self.math = math\n",
    "    #實體方法\n",
    "    def total(self)->int:\n",
    "        return self.chinese + self.english +self.math \n",
    "    \n",
    "    #建立property->類似參數，一定要傳出一個值\n",
    "    @property\n",
    "    def averge(self)-> float:\n",
    "        return self.total()/3.0\n",
    "    \n",
    "    def __repr__(self):\n",
    "        return f\"我是stuudent實體，我的name{self.name}\"\n",
    "        "
   ]
  },
  {
   "cell_type": "code",
   "execution_count": 46,
   "metadata": {},
   "outputs": [
    {
     "data": {
      "text/plain": [
       "('林鈺峰', 75, 60, 60)"
      ]
     },
     "metadata": {},
     "output_type": "display_data"
    },
    {
     "name": "stdout",
     "output_type": "stream",
     "text": [
      "我是stuudent實體，我的name林鈺峰\n"
     ]
    }
   ],
   "source": [
    "stu1 = Student(name=\"林鈺峰\",chinese=75, english=60 , math= 60)\n",
    "display((stu1.name , stu1.chinese , stu1.english , stu1.math))\n",
    "stu1.total(),stu1.averge\n",
    "print(stu1)\n",
    "\n"
   ]
  },
  {
   "cell_type": "code",
   "execution_count": 43,
   "metadata": {},
   "outputs": [
    {
     "data": {
      "text/plain": [
       "('林xx', 75, 60, 60)"
      ]
     },
     "metadata": {},
     "output_type": "display_data"
    },
    {
     "data": {
      "text/plain": [
       "(190, 63.333333333333336)"
      ]
     },
     "execution_count": 43,
     "metadata": {},
     "output_type": "execute_result"
    }
   ],
   "source": [
    "stu2 = Student(name=\"林xx\",chinese=70, english=60 , math= 60)\n",
    "display((stu2.name , stu1.chinese , stu1.english , stu1.math))\n",
    "stu2.total(),stu2.averge\n",
    "print(stu2)"
   ]
  },
  {
   "cell_type": "code",
   "execution_count": 42,
   "metadata": {},
   "outputs": [
    {
     "data": {
      "text/plain": [
       "('為xx', 71, 98, 92)"
      ]
     },
     "metadata": {},
     "output_type": "display_data"
    },
    {
     "data": {
      "text/plain": [
       "(261, 87.0)"
      ]
     },
     "execution_count": 42,
     "metadata": {},
     "output_type": "execute_result"
    }
   ],
   "source": [
    "stu3 = Student(\"為xx\",english=98, math=92, chinese=71)\n",
    "display((stu3.name, stu3.chinese, stu3.english, stu3.math))\n",
    "stu3.total(),stu3.averge\n",
    "print(stu3)"
   ]
  }
 ],
 "metadata": {
  "kernelspec": {
   "display_name": "Python 3",
   "language": "python",
   "name": "python3"
  },
  "language_info": {
   "codemirror_mode": {
    "name": "ipython",
    "version": 3
   },
   "file_extension": ".py",
   "mimetype": "text/x-python",
   "name": "python",
   "nbconvert_exporter": "python",
   "pygments_lexer": "ipython3",
   "version": "3.10.11"
  },
  "orig_nbformat": 4
 },
 "nbformat": 4,
 "nbformat_minor": 2
}
