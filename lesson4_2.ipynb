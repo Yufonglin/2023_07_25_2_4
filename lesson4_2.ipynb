{
 "cells": [
  {
   "cell_type": "code",
   "execution_count": 14,
   "metadata": {},
   "outputs": [
    {
     "ename": "ValueError",
     "evalue": "invalid literal for int() with base 10: ''",
     "output_type": "error",
     "traceback": [
      "\u001b[0;31m---------------------------------------------------------------------------\u001b[0m",
      "\u001b[0;31mValueError\u001b[0m                                Traceback (most recent call last)",
      "Cell \u001b[0;32mIn[14], line 8\u001b[0m\n\u001b[1;32m      1\u001b[0m \u001b[39m# 90(含)~100分為「優」\u001b[39;00m\n\u001b[1;32m      2\u001b[0m \u001b[39m# 80(含)~89分為「甲」\u001b[39;00m\n\u001b[1;32m      3\u001b[0m \u001b[39m# 70(含)~79分為「乙」\u001b[39;00m\n\u001b[1;32m      4\u001b[0m \u001b[39m# 60(含)~69分為「丙」\u001b[39;00m\n\u001b[1;32m      5\u001b[0m \u001b[39m# 0(含)~59分為「丁」\u001b[39;00m\n\u001b[0;32m----> 8\u001b[0m score \u001b[39m=\u001b[39m \u001b[39mint\u001b[39;49m(\u001b[39minput\u001b[39;49m(\u001b[39m\"\u001b[39;49m\u001b[39m請輸入學生分數:\u001b[39;49m\u001b[39m\"\u001b[39;49m))\n\u001b[1;32m      9\u001b[0m \u001b[39mif\u001b[39;00m score \u001b[39m>\u001b[39m\u001b[39m=\u001b[39m \u001b[39m90\u001b[39m:\n\u001b[1;32m     10\u001b[0m     grade \u001b[39m=\u001b[39m \u001b[39m'\u001b[39m\u001b[39m優\u001b[39m\u001b[39m'\u001b[39m\n",
      "\u001b[0;31mValueError\u001b[0m: invalid literal for int() with base 10: ''"
     ]
    }
   ],
   "source": [
    "# 90(含)~100分為「優」\n",
    "# 80(含)~89分為「甲」\n",
    "# 70(含)~79分為「乙」\n",
    "# 60(含)~69分為「丙」\n",
    "# 0(含)~59分為「丁」\n",
    "    \n",
    "    \n",
    "score = int(input(\"請輸入學生分數:\"))\n",
    "if score >= 90:\n",
    "    grade = '優'\n",
    "else:\n",
    "    if score >= 80:\n",
    "        grade = '甲'\n",
    "    else:\n",
    "        if score >= 70:\n",
    "            grade = '乙'\n",
    "        else:\n",
    "            if score >= 60:\n",
    "                grade = '丙'\n",
    "            else:\n",
    "                grade = '丁'\n",
    "print(f\"學生等級:{grade}\")"
   ]
  },
  {
   "cell_type": "code",
   "execution_count": null,
   "metadata": {},
   "outputs": [
    {
     "name": "stdout",
     "output_type": "stream",
     "text": [
      "格式錯誤\n"
     ]
    }
   ],
   "source": [
    "#多項選擇\n",
    "try:\n",
    "    score=int(input(\"請輸入成績：\"))\n",
    "    if score > 90:\n",
    "        grade = \"優\"\n",
    "    elif score>=80:\n",
    "       grade = \"甲\"\n",
    "    elif  score >= 70:\n",
    "        grade = \"乙\"\n",
    "    elif score >= 60:\n",
    "        grade = \"丙\"\n",
    "    else:\n",
    "       grade = \"丁\"\n",
    "    print(f\"學生等級:{grade}\")\n",
    "       \n",
    "except:\n",
    "    print(\"格式錯誤\")\n",
    "    "
   ]
  },
  {
   "cell_type": "code",
   "execution_count": 15,
   "metadata": {},
   "outputs": [
    {
     "name": "stdout",
     "output_type": "stream",
     "text": [
      "實付金額為9000\n"
     ]
    }
   ],
   "source": [
    "money = int(input(\"請輸入購買金額；\"))\n",
    "pay_money = 0\n",
    "if money >=100000 :\n",
    "    pay_money = money*0.8\n",
    "elif money >=50000:\n",
    "    pay_money = money * 0.85\n",
    "elif money >= 30000:\n",
    "    pay_money = money * 0.9\n",
    "elif money >= 10000:\n",
    "    pay_money = money * 0.95\n",
    "else:\n",
    "    pay_money = money\n",
    "print(f\"實付金額為:{int(pay_money)}\") #int->整成整數，等同於無條件捨去\n",
    "    \n",
    "    \n",
    "    \n",
    "    \n",
    "    "
   ]
  },
  {
   "cell_type": "code",
   "execution_count": 17,
   "metadata": {},
   "outputs": [
    {
     "name": "stdout",
     "output_type": "stream",
     "text": [
      "實付金額為:9000\n"
     ]
    }
   ],
   "source": [
    "#反向寫\n",
    "money = int(input(\"請輸入購買金額；\"))\n",
    "pay_money = 0\n",
    "if money <10000:\n",
    "    pay_money = money\n",
    "elif money <30000:\n",
    "    pay_money = money * 0.95\n",
    "elif money < 50000:\n",
    "    pay_money = money * 0.9\n",
    "elif money < 100000:\n",
    "    pay_money = money * 0.85\n",
    "else:\n",
    "    pay_money = money*0.8\n",
    "print(f\"實付金額為:{int(pay_money)}\") #int->整成整數，等同於無條件捨去"
   ]
  },
  {
   "cell_type": "code",
   "execution_count": 36,
   "metadata": {},
   "outputs": [
    {
     "name": "stdout",
     "output_type": "stream",
     "text": [
      "你可以看普遍級\n"
     ]
    }
   ],
   "source": [
    "age = input(\"請輸入年齡：\")\n",
    "rating = \"\"  #<-空字串\n",
    "if age ==\"\":\n",
    "    rating = \"普通級\"\n",
    "elif int(age) >=18:\n",
    "    rating = \"限制級\"\n",
    "elif int(age) >=13:\n",
    "    rating = \"輔導級\"\n",
    "else:\n",
    "    rating = \"普遍級\"\n",
    "print(f\"你可以看{rating}\")"
   ]
  },
  {
   "cell_type": "code",
   "execution_count": 44,
   "metadata": {},
   "outputs": [
    {
     "name": "stdout",
     "output_type": "stream",
     "text": [
      "不加分\n"
     ]
    }
   ],
   "source": [
    "add = input(\"請問是否加分(y,n)\")\n",
    "if  not add ==\"n\":\n",
    "    print(\"加分\")\n",
    "else:\n",
    "    print(\"不加分\")"
   ]
  }
 ],
 "metadata": {
  "kernelspec": {
   "display_name": "Python 3",
   "language": "python",
   "name": "python3"
  },
  "language_info": {
   "codemirror_mode": {
    "name": "ipython",
    "version": 3
   },
   "file_extension": ".py",
   "mimetype": "text/x-python",
   "name": "python",
   "nbconvert_exporter": "python",
   "pygments_lexer": "ipython3",
   "version": "3.10.12"
  },
  "orig_nbformat": 4
 },
 "nbformat": 4,
 "nbformat_minor": 2
}
