import csv

fileName = input("請輸入檔案名：")
with open(f"{fileName}.csv",mode="w",encoding="utf-8",newline="") as file:
    csv.writer