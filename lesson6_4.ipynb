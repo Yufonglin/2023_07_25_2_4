{
 "cells": [
  {
   "cell_type": "code",
   "execution_count": 6,
   "metadata": {},
   "outputs": [
    {
     "name": "stdout",
     "output_type": "stream",
     "text": [
      "====猜數字遊戲===\n",
      "\n",
      "\n",
      "在大一點\n",
      "你已經猜了1次\n",
      "在大一點\n",
      "你已經猜了2次\n",
      "在大一點\n",
      "你已經猜了3次\n",
      "在大一點\n",
      "你已經猜了4次\n",
      "在小一點\n",
      "在小一點\n",
      "超出範圍\n",
      "在大一點\n",
      "你已經猜了8次\n",
      "在大一點\n",
      "你已經猜了9次\n",
      "在大一點\n",
      "你已經猜了10次\n",
      "恭喜你猜對了，答案是84\n",
      "你總共猜了：11\n",
      "遊戲結束!\n"
     ]
    }
   ],
   "source": [
    "#猜數字遊戲，亂數猜\n",
    "import random\n",
    "min = 1\n",
    "max = 100\n",
    "trage = random.randint(1,100)\n",
    "\n",
    "count =0\n",
    "\n",
    "\n",
    "print(\"====猜數字遊戲===\\n\\n\")\n",
    "while True:\n",
    "    count +=1\n",
    "    keyin = int(input(f\"猜數字的範圍{min}~{max}:\"))\n",
    "    \n",
    "    if keyin>=min and keyin<=max:\n",
    "        if keyin ==trage:\n",
    "            print(f\"恭喜你猜對了，答案是{keyin}\")\n",
    "            print(f\"你總共猜了：{count}\")\n",
    "            break\n",
    "        elif keyin >trage:\n",
    "            print(\"在小一點\")\n",
    "            max = keyin-1\n",
    "        elif keyin < trage:\n",
    "            print(\"在大一點\")\n",
    "            min = keyin+1\n",
    "            print(f\"你已經猜了{count}次\")\n",
    "\n",
    "    else:\n",
    "        print(\"超出範圍\")\n",
    "print(\"game over\")"
   ]
  },
  {
   "cell_type": "code",
   "execution_count": 8,
   "metadata": {},
   "outputs": [
    {
     "name": "stdout",
     "output_type": "stream",
     "text": [
      "遊戲結束!\n"
     ]
    }
   ],
   "source": [
    "while True:\n",
    "    \n",
    "    play_again = input(\"你還要繼續嗎?(y or n)\")\n",
    "    if  play_again ==\"n\":\n",
    "        break\n",
    "    else:\n",
    "        print(\"繼續遊戲\")\n",
    "print(\"遊戲結束!\")\n",
    "    "
   ]
  },
  {
   "cell_type": "code",
   "execution_count": 12,
   "metadata": {},
   "outputs": [
    {
     "name": "stdout",
     "output_type": "stream",
     "text": [
      "73\n",
      "====猜數字遊戲===\n",
      "\n",
      "\n",
      "在大一點\n",
      "你已經猜了1次\n",
      "恭喜你猜對了，答案是73\n",
      "你總共猜了：2\n",
      "繼續遊戲\n",
      "59\n",
      "====猜數字遊戲===\n",
      "\n",
      "\n",
      "在大一點\n",
      "你已經猜了1次\n",
      "恭喜你猜對了，答案是59\n",
      "你總共猜了：2\n",
      "繼續遊戲\n",
      "63\n",
      "====猜數字遊戲===\n",
      "\n",
      "\n",
      "恭喜你猜對了，答案是63\n",
      "你總共猜了：1\n",
      "遊戲結束!\n"
     ]
    }
   ],
   "source": [
    "def play_game():\n",
    "\n",
    "    min = 1\n",
    "    max = 100\n",
    "    trage = random.randint(1,100)\n",
    "    print(trage)\n",
    "\n",
    "    count =0\n",
    "\n",
    "\n",
    "    print(\"====猜數字遊戲===\\n\\n\")\n",
    "    while True:\n",
    "        count +=1\n",
    "        keyin = int(input(f\"猜數字的範圍{min}~{max}:\"))\n",
    "        \n",
    "        if keyin>=min and keyin<=max:\n",
    "            if keyin ==trage:\n",
    "                print(f\"恭喜你猜對了，答案是{keyin}\")\n",
    "                print(f\"你總共猜了：{count}\")\n",
    "                break\n",
    "            elif keyin >trage:\n",
    "                print(\"在小一點\")\n",
    "                max = keyin-1\n",
    "            elif keyin < trage:\n",
    "                print(\"在大一點\")\n",
    "                min = keyin+1\n",
    "                print(f\"你已經猜了{count}次\")\n",
    "\n",
    "        else:\n",
    "            print(\"超出範圍\")\n",
    "while True:\n",
    "    play_game()\n",
    "    play_again = input(\"你還要繼續嗎?(y or n)\")\n",
    "    if  play_again ==\"n\":\n",
    "        break\n",
    "    else:\n",
    "        print(\"繼續遊戲\")\n",
    "print(\"遊戲結束!\")"
   ]
  }
 ],
 "metadata": {
  "kernelspec": {
   "display_name": "Python 3",
   "language": "python",
   "name": "python3"
  },
  "language_info": {
   "codemirror_mode": {
    "name": "ipython",
    "version": 3
   },
   "file_extension": ".py",
   "mimetype": "text/x-python",
   "name": "python",
   "nbconvert_exporter": "python",
   "pygments_lexer": "ipython3",
   "version": "3.10.12"
  },
  "orig_nbformat": 4
 },
 "nbformat": 4,
 "nbformat_minor": 2
}
