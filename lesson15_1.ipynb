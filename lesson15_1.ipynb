{
 "cells": [
  {
   "cell_type": "code",
   "execution_count": 35,
   "metadata": {},
   "outputs": [
    {
     "ename": "SyntaxError",
     "evalue": "invalid decimal literal (1923952693.py, line 46)",
     "output_type": "error",
     "traceback": [
      "\u001b[0;36m  Cell \u001b[0;32mIn[35], line 46\u001b[0;36m\u001b[0m\n\u001b[0;31m    tmp/ipykernel_2115/2002753703.py:28:(UserWarning:, FixedFormatter, should, only, be, used, together, with, FixedLocator)\u001b[0m\n\u001b[0m                                 ^\u001b[0m\n\u001b[0;31mSyntaxError\u001b[0m\u001b[0;31m:\u001b[0m invalid decimal literal\n"
     ]
    }
   ],
   "source": [
    "\n",
    "#使用codespace 要安裝中文字型\n",
    "#install 要加-y\n",
    "#命令列:sudo apt-get update -y\n",
    "#命令列:sudo apt-get install -y fonts-wqy-zenhei\n",
    "#說明網址:https://askubuntu.com/questions/490829/how-can-i-install-chinese-fonts-on-kubuntu-14-04\n",
    "#字型位置:/usr/share/fonts/truetype/wqy/wqy-zenhei.ttc\n",
    "\n",
    "import matplotlib.pyplot as plt\n",
    "from matplotlib.font_manager import FontProperties\n",
    "\n",
    "#mac font=FontProperties(fname='/Library/Fonts/Arial Unicode.ttf',size=8)\n",
    "#mac font1=FontProperties(fname='/Library/Fonts/Arial Unicode.ttf',size=12)\n",
    "#window font=FontProperties(fname=r'c:\\windows\\fonts\\simsun.ttc',size=8)\n",
    "font=FontProperties(fname='/usr/share/fonts/truetype/wqy/wqy-zenhei.ttc',size=8)\n",
    "font1=FontProperties(fname='/usr/share/fonts/truetype/wqy/wqy-zenhei.ttc',size=12)\n",
    "\n",
    "student1 = {'國文':78, '英文':80, '數學':92, '歷史':75, '探索':85}\n",
    "student2 = {'國文':90, '英文':75, '數學':98, '歷史':65, '探索':75}\n",
    "student1.keys()\n",
    "student1.values()\n",
    "\n",
    "figure = plt.figure(figsize=[8, 5],facecolor=\"#cccccc\")\n",
    "axes = figure.add_subplot(1,1,1)\n",
    "student1_value_list = list(student1.values())\n",
    "student2_value_list = list(student2.values())\n",
    "axes.plot(student1.keys(),student1_value_list,'r--+',label='學生1')\n",
    "axes.plot(student2.keys(),student2_value_list,'b--.',label='學生2')\n",
    "axes.set_xticklabels(student1.keys(),fontproperties=font)\n",
    "axes.set_title(\"學生1的分數\",fontproperties=font)\n",
    "axes.set_xlabel(\"科目\",fontproperties=font)\n",
    "axes.set_ylabel(\"分數\",fontproperties=font)\n",
    "axes.grid(axis='y')\n",
    "axes.legend(prop=font)\n",
    "#axes.annotate(\"75\",[1,90])\n",
    "xlocation = axes.get_xticks()\n",
    "#ylocation = axes.get_yticks()\n",
    "xtick_count = len(xlocation)\n",
    "for i in range(xtick_count):\n",
    "    x = xlocation[i]\n",
    "    y1 = student1_value_list[i]\n",
    "    y2 = student2_value_list[i]\n",
    "    axes.annotate(str(y1),[x,y1])\n",
    "    axes.annotate(str(y2),[x,y2])\n",
    "\n",
    "plt.show()\n",
    "/tmp/ipykernel_2115/2002753703.py:28: UserWarning: FixedFormatter should only be used together with FixedLocator\n",
    "  axes.set_xticklabels(student1.keys(),fontproperties=font)\n"
   ]
  }
 ],
 "metadata": {
  "kernelspec": {
   "display_name": "Python 3",
   "language": "python",
   "name": "python3"
  },
  "language_info": {
   "codemirror_mode": {
    "name": "ipython",
    "version": 3
   },
   "file_extension": ".py",
   "mimetype": "text/x-python",
   "name": "python",
   "nbconvert_exporter": "python",
   "pygments_lexer": "ipython3",
   "version": "3.10.12"
  },
  "orig_nbformat": 4
 },
 "nbformat": 4,
 "nbformat_minor": 2
}
