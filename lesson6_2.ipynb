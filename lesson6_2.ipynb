{
 "cells": [
  {
   "cell_type": "code",
   "execution_count": 48,
   "metadata": {},
   "outputs": [
    {
     "data": {
      "text/plain": [
       "3"
      ]
     },
     "execution_count": 48,
     "metadata": {},
     "output_type": "execute_result"
    }
   ],
   "source": [
    "import random\n",
    "#亂數的建立\n",
    "#建立0~5(不包含5)的亂數\n",
    "random.randrange(5)"
   ]
  },
  {
   "cell_type": "code",
   "execution_count": 49,
   "metadata": {},
   "outputs": [
    {
     "data": {
      "text/plain": [
       "7"
      ]
     },
     "execution_count": 49,
     "metadata": {},
     "output_type": "execute_result"
    }
   ],
   "source": [
    "random.randrange(1,10)\n"
   ]
  },
  {
   "cell_type": "code",
   "execution_count": 46,
   "metadata": {},
   "outputs": [
    {
     "data": {
      "text/plain": [
       "10"
      ]
     },
     "execution_count": 46,
     "metadata": {},
     "output_type": "execute_result"
    }
   ],
   "source": [
    "random.randint(1,10)"
   ]
  },
  {
   "cell_type": "code",
   "execution_count": 6,
   "metadata": {},
   "outputs": [
    {
     "name": "stdout",
     "output_type": "stream",
     "text": [
      "====猜數字遊戲===\n",
      "\n",
      "\n",
      "\n",
      "\n",
      "在小一點\n",
      "在大一點\n",
      "你已經猜了2次\n",
      "在小一點\n",
      "在小一點\n",
      "在大一點\n",
      "你已經猜了5次\n",
      "恭恭喜你猜對了，答案是33\n",
      "你你總共猜了：6\n"
     ]
    }
   ],
   "source": [
    "#猜數字遊戲，亂數猜\n",
    "import random\n",
    "min = 1\n",
    "max = 100\n",
    "trage = random.randint(1,100)\n",
    "\n",
    "count =0\n",
    "\n",
    "\n",
    "print(\"====猜數字遊戲===\\n\\n\\n\\n\")\n",
    "while True:\n",
    "    count +=1\n",
    "    keyin = int(input(f\"猜數字的範圍{min}~{max}\"))\n",
    "    \n",
    "    if keyin>=min and keyin<=max:\n",
    "        pass\n",
    "        if keyin ==trage:\n",
    "            print(f\"恭恭喜你猜對了，答案是{keyin}\")\n",
    "            print(f\"你你總共猜了：{count}\")\n",
    "            break\n",
    "        elif keyin >trage:\n",
    "            print(\"在小一點\")\n",
    "            max = keyin-1\n",
    "        elif keyin < trage:\n",
    "            print(\"在大一點\")\n",
    "            min = keyin+1\n",
    "            print(f\"你已經猜了{count}次\")\n",
    "        #else:\n",
    "           # print(\"猜錯了\")\n",
    "            #print(f\"你已經猜了{count}次\")\n",
    "    else:\n",
    "        print(\"超出範圍\")\n",
    "            "
   ]
  }
 ],
 "metadata": {
  "kernelspec": {
   "display_name": "Python 3",
   "language": "python",
   "name": "python3"
  },
  "language_info": {
   "codemirror_mode": {
    "name": "ipython",
    "version": 3
   },
   "file_extension": ".py",
   "mimetype": "text/x-python",
   "name": "python",
   "nbconvert_exporter": "python",
   "pygments_lexer": "ipython3",
   "version": "3.10.12"
  },
  "orig_nbformat": 4
 },
 "nbformat": 4,
 "nbformat_minor": 2
}
