{
 "cells": [
  {
   "cell_type": "code",
   "execution_count": 48,
   "metadata": {},
   "outputs": [
    {
     "data": {
      "text/plain": [
       "3"
      ]
     },
     "execution_count": 48,
     "metadata": {},
     "output_type": "execute_result"
    }
   ],
   "source": [
    "import random\n",
    "#亂數的建立\n",
    "#建立0~5(不包含5)的亂數\n",
    "random.randrange(5)"
   ]
  },
  {
   "cell_type": "code",
   "execution_count": 49,
   "metadata": {},
   "outputs": [
    {
     "data": {
      "text/plain": [
       "7"
      ]
     },
     "execution_count": 49,
     "metadata": {},
     "output_type": "execute_result"
    }
   ],
   "source": [
    "random.randrange(1,10)\n"
   ]
  },
  {
   "cell_type": "code",
   "execution_count": 46,
   "metadata": {},
   "outputs": [
    {
     "data": {
      "text/plain": [
       "10"
      ]
     },
     "execution_count": 46,
     "metadata": {},
     "output_type": "execute_result"
    }
   ],
   "source": [
    "random.randint(1,10)"
   ]
  },
  {
   "cell_type": "code",
   "execution_count": 12,
   "metadata": {},
   "outputs": [
    {
     "name": "stdout",
     "output_type": "stream",
     "text": [
      "====猜數字遊戲===\n",
      "在大一點\n",
      "你已經猜了1次\n",
      "在小一點\n",
      "在大一點\n",
      "你已經猜了3次\n",
      "在大一點\n",
      "你已經猜了4次\n",
      "在小一點\n",
      "在大一點\n",
      "你已經猜了6次\n",
      "在大一點\n",
      "你已經猜了7次\n",
      "恭喜你猜對了，答案是74\n",
      "你總共猜了：8\n",
      "game over\n"
     ]
    }
   ],
   "source": [
    "#猜數字遊戲，亂數猜\n",
    "import random\n",
    "min = 1\n",
    "max = 100\n",
    "trage = random.randint(1,100)\n",
    "\n",
    "count =0\n",
    "\n",
    "\n",
    "print(\"====猜數字遊戲===\")\n",
    "while True:\n",
    "    count +=1\n",
    "    keyin = int(input(f\"猜數字的範圍{min}~{max}\"))\n",
    "    \n",
    "    if keyin>=min and keyin<=max:\n",
    "        if keyin ==trage:\n",
    "            print(f\"恭喜你猜對了，答案是{keyin}\")\n",
    "            print(f\"你總共猜了：{count}\")\n",
    "            break\n",
    "        elif keyin >trage:\n",
    "            print(\"在小一點\")\n",
    "            max = keyin-1\n",
    "        elif keyin < trage:\n",
    "            print(\"在大一點\")\n",
    "            min = keyin+1\n",
    "            print(f\"你已經猜了{count}次\")\n",
    "\n",
    "    else:\n",
    "        print(\"超出範圍\")\n",
    "print(\"game over\")\n",
    "            "
   ]
  }
 ],
 "metadata": {
  "kernelspec": {
   "display_name": "Python 3",
   "language": "python",
   "name": "python3"
  },
  "language_info": {
   "codemirror_mode": {
    "name": "ipython",
    "version": 3
   },
   "file_extension": ".py",
   "mimetype": "text/x-python",
   "name": "python",
   "nbconvert_exporter": "python",
   "pygments_lexer": "ipython3",
   "version": "3.10.12"
  },
  "orig_nbformat": 4
 },
 "nbformat": 4,
 "nbformat_minor": 2
}
