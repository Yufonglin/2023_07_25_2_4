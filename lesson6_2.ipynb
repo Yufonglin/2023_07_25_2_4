{
 "cells": [
  {
   "cell_type": "code",
   "execution_count": 48,
   "metadata": {},
   "outputs": [
    {
     "data": {
      "text/plain": [
       "3"
      ]
     },
     "execution_count": 48,
     "metadata": {},
     "output_type": "execute_result"
    }
   ],
   "source": [
    "import random\n",
    "#亂數的建立\n",
    "#建立0~5(不包含5)的亂數\n",
    "random.randrange(5)"
   ]
  },
  {
   "cell_type": "code",
   "execution_count": 49,
   "metadata": {},
   "outputs": [
    {
     "data": {
      "text/plain": [
       "7"
      ]
     },
     "execution_count": 49,
     "metadata": {},
     "output_type": "execute_result"
    }
   ],
   "source": [
    "random.randrange(1,10)\n"
   ]
  },
  {
   "cell_type": "code",
   "execution_count": 46,
   "metadata": {},
   "outputs": [
    {
     "data": {
      "text/plain": [
       "10"
      ]
     },
     "execution_count": 46,
     "metadata": {},
     "output_type": "execute_result"
    }
   ],
   "source": [
    "random.randint(1,10)"
   ]
  },
  {
   "cell_type": "code",
   "execution_count": 54,
   "metadata": {},
   "outputs": [
    {
     "name": "stdout",
     "output_type": "stream",
     "text": [
      "====猜數字遊戲===\n",
      "\n",
      "\n",
      "\n",
      "\n",
      "猜錯了\n",
      "猜錯了\n",
      "猜錯了\n",
      "猜錯了\n",
      "猜錯了\n",
      "猜錯了\n",
      "猜錯了\n",
      "恭恭喜你猜對了，答案是8\n",
      "你你總共猜了：8\n"
     ]
    }
   ],
   "source": [
    "#猜數字遊戲，亂數猜\n",
    "min = 1\n",
    "max = 10\n",
    "trage = random.randint(1,10)\n",
    "\n",
    "count =0\n",
    "\n",
    "\n",
    "print(\"====猜數字遊戲===\\n\\n\\n\\n\")\n",
    "while True:\n",
    "    count +=1\n",
    "    keyin = int(input(f\"猜數字的範圍{min}~{max}\"))\n",
    "    \n",
    "    if keyin>=min and keyin<=max:\n",
    "        pass\n",
    "        if keyin ==trage:\n",
    "            print(f\"恭恭喜你猜對了，答案是{keyin}\")\n",
    "            print(f\"你你總共猜了：{count}\")\n",
    "            break\n",
    "        else:\n",
    "            print(\"猜錯了\")\n",
    "    else:\n",
    "        print(\"超出範圍\")\n",
    "            "
   ]
  }
 ],
 "metadata": {
  "kernelspec": {
   "display_name": "Python 3",
   "language": "python",
   "name": "python3"
  },
  "language_info": {
   "codemirror_mode": {
    "name": "ipython",
    "version": 3
   },
   "file_extension": ".py",
   "mimetype": "text/x-python",
   "name": "python",
   "nbconvert_exporter": "python",
   "pygments_lexer": "ipython3",
   "version": "3.10.12"
  },
  "orig_nbformat": 4
 },
 "nbformat": 4,
 "nbformat_minor": 2
}
