{
 "cells": [
  {
   "cell_type": "code",
   "execution_count": 3,
   "metadata": {},
   "outputs": [
    {
     "name": "stdout",
     "output_type": "stream",
     "text": [
      "程式結束\n"
     ]
    }
   ],
   "source": [
    "a = 17\n",
    "if a > 18:\n",
    "    print(\"滿18歲\") #單項選擇\n",
    "print(\"程式結束\")\n",
    "#else:\n",
    "\n",
    "    #print(\"未滿18歲\")"
   ]
  },
  {
   "cell_type": "code",
   "execution_count": 15,
   "metadata": {},
   "outputs": [
    {
     "name": "stdout",
     "output_type": "stream",
     "text": [
      "學生的分數是300\n"
     ]
    }
   ],
   "source": [
    "#學生總分300分\n",
    "#希望有些學生可以增加5%\n",
    "#如果有加分有超過300分就以300分為準\n",
    "Score = int(input(\"請輸入學學生成績(最高300分)：\"))\n",
    "is_add =input(\"學生是否和加分條件(y,n)\")  #給是否加分的條件\n",
    "if is_add == \"y\" :\n",
    "    Score *= 1.05\n",
    "    if Score>300:\n",
    "        Score = 300\n",
    "print(f\"學生的分數是{round(Score)}\")\n"
   ]
  }
 ],
 "metadata": {
  "kernelspec": {
   "display_name": "Python 3",
   "language": "python",
   "name": "python3"
  },
  "language_info": {
   "codemirror_mode": {
    "name": "ipython",
    "version": 3
   },
   "file_extension": ".py",
   "mimetype": "text/x-python",
   "name": "python",
   "nbconvert_exporter": "python",
   "pygments_lexer": "ipython3",
   "version": "3.10.12"
  },
  "orig_nbformat": 4
 },
 "nbformat": 4,
 "nbformat_minor": 2
}
