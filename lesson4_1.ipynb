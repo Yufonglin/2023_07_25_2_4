{
 "cells": [
  {
   "cell_type": "code",
   "execution_count": 28,
   "metadata": {},
   "outputs": [
    {
     "name": "stdout",
     "output_type": "stream",
     "text": [
      "程式結束\n"
     ]
    }
   ],
   "source": [
    "a = 17\n",
    "if a > 18:\n",
    "    print(\"滿18歲\") #單項選擇\n",
    "print(\"程式結束\")\n",
    "#else:\n",
    "\n",
    "    #print(\"未滿18歲\")"
   ]
  },
  {
   "cell_type": "code",
   "execution_count": 33,
   "metadata": {},
   "outputs": [
    {
     "name": "stdout",
     "output_type": "stream",
     "text": [
      "格式錯誤\n"
     ]
    }
   ],
   "source": [
    "#學生總分300分\n",
    "#希望有些學生可以增加5%\n",
    "#如果有加分有超過300分就以300分為準\n",
    "try:\n",
    "    score = int(input(\"請輸入學學生成績(最高300分)：\"))\n",
    "    if score <= 300:\n",
    "        is_add =input(\"學生是否和加分條件(y,n)\")  #給是否加分的條件\n",
    "        if is_add == \"y\" :\n",
    "            score *= 1.05\n",
    "            if score>300:\n",
    "                score = 300\n",
    "        print(f\"學生的分數是{round(score)}\")\n",
    "    else:\n",
    "        print(\"學生分數不可以大於300分\")\n",
    "except:\n",
    "    print(\"格式錯誤\")\n"
   ]
  },
  {
   "cell_type": "code",
   "execution_count": 30,
   "metadata": {},
   "outputs": [
    {
     "name": "stdout",
     "output_type": "stream",
     "text": [
      "不及格!!\n"
     ]
    }
   ],
   "source": [
    "#雙項選擇\n",
    "score = int(input(\"請輸入學生的分數(0!100):\"))\n",
    "if score >= 60: \n",
    "    print(\"及格!\")\n",
    "else:\n",
    "    print(\"不及格!!\")"
   ]
  },
  {
   "cell_type": "code",
   "execution_count": 32,
   "metadata": {},
   "outputs": [
    {
     "name": "stdout",
     "output_type": "stream",
     "text": [
      "265\n"
     ]
    }
   ],
   "source": [
    "try:  # try=用來值執行可能會出錯的程式碼,若程式碼出現錯會，則會跳到except\n",
    "    money = int(input(\"請輸入金額：\"))\n",
    "    #print(money)\n",
    "except: #用來處理程式碼有問題的程式。\n",
    "    print(\"輸入格式錯誤\")\n",
    "print(money)"
   ]
  },
  {
   "cell_type": "code",
   "execution_count": null,
   "metadata": {},
   "outputs": [],
   "source": []
  }
 ],
 "metadata": {
  "kernelspec": {
   "display_name": "Python 3",
   "language": "python",
   "name": "python3"
  },
  "language_info": {
   "codemirror_mode": {
    "name": "ipython",
    "version": 3
   },
   "file_extension": ".py",
   "mimetype": "text/x-python",
   "name": "python",
   "nbconvert_exporter": "python",
   "pygments_lexer": "ipython3",
   "version": "3.10.12"
  },
  "orig_nbformat": 4
 },
 "nbformat": 4,
 "nbformat_minor": 2
}
