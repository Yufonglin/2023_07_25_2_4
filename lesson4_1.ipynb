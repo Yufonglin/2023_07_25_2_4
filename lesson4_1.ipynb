{
 "cells": [
  {
   "cell_type": "code",
   "execution_count": 2,
   "metadata": {},
   "outputs": [
    {
     "name": "stdout",
     "output_type": "stream",
     "text": [
      "滿18歲\n",
      "程式結束\n"
     ]
    }
   ],
   "source": [
    "a = 21\n",
    "if a>18:\n",
    "    print(\"滿18歲\") #單項選擇\n",
    "print(\"程式結束\")\n",
    "#else:\n",
    "\n",
    "    #print(\"未滿18歲\")"
   ]
  }
 ],
 "metadata": {
  "kernelspec": {
   "display_name": "Python 3",
   "language": "python",
   "name": "python3"
  },
  "language_info": {
   "codemirror_mode": {
    "name": "ipython",
    "version": 3
   },
   "file_extension": ".py",
   "mimetype": "text/x-python",
   "name": "python",
   "nbconvert_exporter": "python",
   "pygments_lexer": "ipython3",
   "version": "3.10.12"
  },
  "orig_nbformat": 4
 },
 "nbformat": 4,
 "nbformat_minor": 2
}
